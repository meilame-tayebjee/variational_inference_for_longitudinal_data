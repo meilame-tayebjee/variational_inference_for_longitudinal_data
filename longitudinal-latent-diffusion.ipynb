{
 "cells": [
  {
   "cell_type": "code",
   "execution_count": 1,
   "metadata": {},
   "outputs": [
    {
     "name": "stdout",
     "output_type": "stream",
     "text": [
      "Mon Jun 10 13:35:47 2024       \n",
      "+-----------------------------------------------------------------------------------------+\n",
      "| NVIDIA-SMI 550.90.07              Driver Version: 550.90.07      CUDA Version: 12.4     |\n",
      "|-----------------------------------------+------------------------+----------------------+\n",
      "| GPU  Name                 Persistence-M | Bus-Id          Disp.A | Volatile Uncorr. ECC |\n",
      "| Fan  Temp   Perf          Pwr:Usage/Cap |           Memory-Usage | GPU-Util  Compute M. |\n",
      "|                                         |                        |               MIG M. |\n",
      "|=========================================+========================+======================|\n",
      "|   0  NVIDIA RTX A2000 12GB          Off |   00000000:01:00.0  On |                  Off |\n",
      "| 30%   45C    P8             13W /   70W |   11026MiB /  12282MiB |     50%      Default |\n",
      "|                                         |                        |                  N/A |\n",
      "+-----------------------------------------+------------------------+----------------------+\n",
      "                                                                                         \n",
      "+-----------------------------------------------------------------------------------------+\n",
      "| Processes:                                                                              |\n",
      "|  GPU   GI   CI        PID   Type   Process name                              GPU Memory |\n",
      "|        ID   ID                                                               Usage      |\n",
      "|=========================================================================================|\n",
      "|    0   N/A  N/A    262822      C   ...ocal/Anaconda3-2023.07-1/bin/python      10418MiB |\n",
      "|    0   N/A  N/A    266992      G   /usr/libexec/Xorg                             223MiB |\n",
      "|    0   N/A  N/A    267138      G   /usr/bin/gnome-shell                           67MiB |\n",
      "|    0   N/A  N/A    267826      G   ...erProcess --variations-seed-version        128MiB |\n",
      "|    0   N/A  N/A    268105      G   /usr/lib64/firefox/firefox                    172MiB |\n",
      "+-----------------------------------------------------------------------------------------+\n"
     ]
    }
   ],
   "source": [
    "import sys\n",
    "#%cd variational_inference_for_longitudinal_data/\n",
    "sys.path.append('diffusion/stable_diffusion/')\n",
    "sys.path.append('diffusion/stable_diffusion/model/')\n",
    "sys.path.append('lib/src/')\n",
    "import torch\n",
    "from torch import nn\n",
    "import torch.nn.functional as F\n",
    "import os\n",
    "from matplotlib import pyplot as plt\n",
    "\n",
    "import numpy as np\n",
    "import logging\n",
    "\n",
    "\n",
    "\n",
    "\n",
    "from diffusion.stable_diffusion.latent_diffusion import MyLatentDiffusion, LitLDM\n",
    "from diffusion.stable_diffusion.model.unet import UNetModel\n",
    "from diffusion.stable_diffusion.sampler.ddim import DDIMSampler\n",
    "\n",
    "from lib.src.pythae.models import VAE\n",
    "from lib.src.pythae.models import LLDM_IAF, LVAE_IAF_Config\n",
    "from lib.src.pythae.trainers import BaseTrainerConfig, BaseTrainer\n",
    "from lib.scripts.utils import Encoder_Chairs,Decoder_Chairs\n",
    "from lib.scripts.utils import My_MaskedDataset, make_batched_masks\n",
    "\n",
    "\n",
    "def load_config_unet(config):\n",
    "    return UNetModel(\n",
    "        in_channels=config['in_channels'],\n",
    "        out_channels=config['out_channels'],\n",
    "        channels=config['channels'],\n",
    "        n_res_blocks=config['n_res_blocks'],\n",
    "        attention_levels=config['attention_levels'],\n",
    "        channel_multipliers=config['channel_multipliers'],\n",
    "        n_heads=config['n_heads'],\n",
    "    )\n",
    "\n",
    "\n",
    "def plot_sequence(X):\n",
    "\n",
    "    if len(X.shape) == 4:\n",
    "        X = X.unsqueeze(0)\n",
    "\n",
    "    X = X.cpu().detach().numpy()\n",
    "    num_seq = X.shape[0]\n",
    "    num_obs = X.shape[1]\n",
    "\n",
    "    logger = logging.getLogger()\n",
    "    old_level = logger.level\n",
    "    logger.setLevel(100)\n",
    "    plt.figure(figsize=(10, 10))\n",
    "    for i in range(num_seq):\n",
    "        for j in range(num_obs):\n",
    "            plt.subplot(num_seq, num_obs, i*num_obs+j+1)\n",
    "            plt.imshow(X[i, j].transpose(1, 2, 0))\n",
    "            plt.axis('off')\n",
    "\n",
    "    plt.show()\n",
    "    logger.setLevel(old_level)\n",
    "\n",
    "\n",
    "%reload_ext autoreload\n",
    "%autoreload 2\n",
    "\n",
    "!nvidia-smi"
   ]
  },
  {
   "cell_type": "code",
   "execution_count": 2,
   "metadata": {},
   "outputs": [
    {
     "name": "stdout",
     "output_type": "stream",
     "text": [
      "torch.Size([8000, 8, 64, 64, 3])\n",
      "torch.Size([8000, 8, 3, 64, 64])\n"
     ]
    }
   ],
   "source": [
    "PATH_DATA = 'lib/my_data/sprites/Sprites_train.pt'\n",
    "\n",
    "\n",
    "train_data = torch.load(os.path.join(PATH_DATA))[:-1000]\n",
    "eval_data = torch.load(os.path.join(PATH_DATA), map_location=\"cpu\")[-1000:]\n",
    "#test_data = torch.load(os.path.join('lib/my_data/sprites/Sprites_test.pt'), map_location=\"cpu\")\n",
    "\n",
    "print(train_data.shape)\n",
    "train_data = train_data.permute(0, 1, 4, 2, 3)\n",
    "eval_data = eval_data.permute(0, 1, 4, 2, 3)\n",
    "#test_data = test_data.permute(0, 1, 4, 2, 3)\n",
    "print(train_data.shape)\n",
    "\n",
    "train_seq_mask = torch.ones(train_data.shape[:2], requires_grad=False).type(torch.bool)\n",
    "eval_seq_mask = torch.ones(eval_data.shape[:2], requires_grad=False).type(torch.bool)\n",
    "#test_seq_mask = torch.ones(test_data.shape[:2], requires_grad=False).type(torch.bool)\n",
    "train_pix_mask = torch.ones_like(train_data, requires_grad=False).type(torch.bool)\n",
    "eval_pix_mask = torch.ones_like(eval_data, requires_grad=False).type(torch.bool)\n",
    "#test_pix_mask = torch.ones_like(test_data, requires_grad=False).type(torch.bool)\n",
    "\n",
    "train_dataset = My_MaskedDataset(train_data, train_seq_mask, train_pix_mask)\n",
    "eval_dataset = My_MaskedDataset(eval_data, eval_seq_mask, eval_pix_mask)\n",
    "#test_dataset = My_MaskedDataset(test_data, test_seq_mask, test_pix_mask)\n",
    "\n",
    "\n",
    "NUM_WORKERS = 12\n",
    "train_loader = torch.utils.data.DataLoader(train_data, batch_size=200, shuffle=True)\n",
    "val_loader = torch.utils.data.DataLoader(eval_data, batch_size=200, shuffle=True)"
   ]
  },
  {
   "cell_type": "code",
   "execution_count": 3,
   "metadata": {},
   "outputs": [
    {
     "name": "stdout",
     "output_type": "stream",
     "text": [
      "Running Kmedoids\n",
      "Finding temperature\n",
      "Best temperature found:  1.8156673908233643\n",
      "Building metric\n",
      "Latent dim: 12\n",
      "Number of parameters in the diffusion model:  2223043\n"
     ]
    }
   ],
   "source": [
    "# encoder = Encoder_Chairs(config)\n",
    "# decoder = Decoder_Chairs(config)\n",
    "# vae = LVAE_IAF(config, encoder, decoder)\n",
    "PATH_VAE_FOLDER = 'pre-trained_vae/VAE_training_2024-05-30_17-33-43-latdim12/final_model'\n",
    "PATH_DIFFUSION_CKPT = 'ldm/lightning_logs/version_30/checkpoints/epoch=44-step=900.ckpt'\n",
    "\n",
    "\n",
    "\n",
    "\n",
    "device = 'cpu'\n",
    "vae = VAE.load_from_folder(PATH_VAE_FOLDER).to(device)\n",
    "vae.eval()\n",
    "_, _ = vae.retrieveG(train_data, verbose = True)\n",
    "\n",
    "\n",
    "# in_channels = 3\n",
    "# out_channels = 3\n",
    "# channels = 32\n",
    "# n_res_blocks = 2\n",
    "# attention_levels = [2]\n",
    "# channel_multipliers = (1, 2, 4)\n",
    "# n_heads = 16\n",
    "\n",
    "\n",
    "in_channels = 3\n",
    "out_channels = 3\n",
    "channels = 64\n",
    "n_res_blocks = 4\n",
    "attention_levels = [0]\n",
    "channel_multipliers = [1]\n",
    "n_heads = 4\n",
    "\n",
    "unet_config = {\n",
    "    'in_channels': in_channels,\n",
    "    'out_channels': out_channels,\n",
    "    'channels': channels,\n",
    "    'n_res_blocks': n_res_blocks,\n",
    "    'attention_levels': attention_levels,\n",
    "    'channel_multipliers': channel_multipliers,\n",
    "    'n_heads': n_heads,\n",
    "}\n",
    "\n",
    "unet = load_config_unet(unet_config)\n",
    "\n",
    "latent_scaling_factor = 1\n",
    "n_steps = 1000\n",
    "linear_start =  0.00085\n",
    "linear_end = 0.012\n",
    "\n",
    "input_dim = (3, 64, 64)\n",
    "f = 32 #subsampling factor\n",
    "latent_dim = 3* (64 // f) * (64 // f)\n",
    "print('Latent dim:', latent_dim)\n",
    "\n",
    "\n",
    "latent_diffusion = MyLatentDiffusion(unet, latent_scaling_factor, latent_dim, n_steps, linear_start, linear_end)\n",
    "print('Number of parameters in the diffusion model: ', sum(p.numel() for p in latent_diffusion.parameters() if p.requires_grad))\n",
    "\n",
    "model = LitLDM.load_from_checkpoint(PATH_DIFFUSION_CKPT, ldm = latent_diffusion, vae = vae, latent_dim = latent_dim, lr = 6e-4).to(device)\n",
    "diffusion = model.ldm"
   ]
  },
  {
   "cell_type": "code",
   "execution_count": 7,
   "metadata": {},
   "outputs": [
    {
     "name": "stdout",
     "output_type": "stream",
     "text": [
      "[995 853 711 569 427 285 143   1]\n",
      "Running on  cpu\n",
      "Freezing pre-trained VAE and pre-trained LDM...\n",
      "Freezing done.\n",
      "Number of trainable parameters: 1.9e+06\n",
      "Number of total parameters: 5.2e+06\n"
     ]
    }
   ],
   "source": [
    "config = LVAE_IAF_Config(\n",
    "    input_dim=(3, 64, 64),\n",
    "    n_obs_per_ind=train_data.shape[1], #8 for Sprites\n",
    "    latent_dim=latent_dim,\n",
    "    beta=1,\n",
    "    n_hidden_in_made=4,\n",
    "    n_made_blocks=2,\n",
    "    warmup=0,\n",
    "    context_dim=None,\n",
    "    prior='standard',\n",
    "    posterior='iaf',\n",
    "    linear_scheduling_steps=10\n",
    ")\n",
    "\n",
    "device = 'cuda'\n",
    "encoder = Encoder_Chairs(config).to(device)\n",
    "decoder = Decoder_Chairs(config).to(device)\n",
    "ddim_sampler = DDIMSampler(diffusion, n_steps = train_data.shape[1]-1, ddim_eta = 1)\n",
    "zT_samples = torch.load('zT_samples.pt') #shape (1000, 12)\n",
    "\n",
    "\n",
    "lldm = LLDM_IAF(model_config=config, encoder=encoder, decoder=decoder, \n",
    "                pretrained_vae=vae, pretrained_ldm=diffusion, ddim_sampler=ddim_sampler,\n",
    "                precomputed_zT_samples=zT_samples, verbose = True)"
   ]
  },
  {
   "cell_type": "code",
   "execution_count": 12,
   "metadata": {},
   "outputs": [],
   "source": [
    "training_config = BaseTrainerConfig(\n",
    "        num_epochs=100,\n",
    "        learning_rate=1e-3,\n",
    "        batch_size=128,\n",
    "        steps_saving=None,\n",
    "        steps_predict=100,\n",
    "        shuffle=True\n",
    "    )\n",
    "\n",
    "optimizer = torch.optim.Adam(lldm.parameters(), lr=training_config.learning_rate, eps=1e-4)\n",
    "\n",
    "### Scheduler\n",
    "scheduler = torch.optim.lr_scheduler.MultiStepLR(\n",
    "    optimizer,\n",
    "    milestones=[50, 100, 125, 150],\n",
    "    gamma=0.5,\n",
    "    verbose=True\n",
    ")\n",
    "\n",
    "trainer = BaseTrainer(\n",
    "            model=lldm,\n",
    "            train_dataset=train_dataset,\n",
    "            eval_dataset=eval_dataset,\n",
    "            training_config=training_config,\n",
    "            optimizer=optimizer,\n",
    "            scheduler=scheduler,\n",
    "        )"
   ]
  },
  {
   "cell_type": "code",
   "execution_count": 13,
   "metadata": {},
   "outputs": [
    {
     "name": "stderr",
     "output_type": "stream",
     "text": [
      "Model passed sanity check !\n",
      "\n",
      "Model passed sanity check !\n",
      "\n",
      "Created dummy_output_dir/LLDM_IAF_training_2024-06-05_17-45-42. \n",
      "Training config, checkpoints and final model will be saved here.\n",
      "\n",
      "Created dummy_output_dir/LLDM_IAF_training_2024-06-05_17-45-42. \n",
      "Training config, checkpoints and final model will be saved here.\n",
      "\n",
      "Successfully launched training !\n",
      "\n",
      "Successfully launched training !\n",
      "\n"
     ]
    },
    {
     "data": {
      "application/vnd.jupyter.widget-view+json": {
       "model_id": "939f44baa6124caaadc23c6b21cdf9d3",
       "version_major": 2,
       "version_minor": 0
      },
      "text/plain": [
       "Training of epoch 1/100:   0%|          | 0/63 [00:00<?, ?batch/s]"
      ]
     },
     "metadata": {},
     "output_type": "display_data"
    },
    {
     "name": "stdout",
     "output_type": "stream",
     "text": [
      "     rec_loss   reg_loss  count\n",
      "0  170.670190  10.963666    5.0\n",
      "1  181.907753   5.049480    8.0\n",
      "2  162.945151   8.648925    7.0\n",
      "3  173.118521   8.377612   10.0\n",
      "4  171.278643   9.722590    8.0\n",
      "5  164.745672  21.132274   13.0\n",
      "6  147.270703  47.391747    5.0\n",
      "7  154.155158  28.624320    7.0\n"
     ]
    },
    {
     "data": {
      "application/vnd.jupyter.widget-view+json": {
       "model_id": "6f281445b4f24b34a7bbc58d4c772779",
       "version_major": 2,
       "version_minor": 0
      },
      "text/plain": [
       "Eval of epoch 1/100:   0%|          | 0/8 [00:00<?, ?batch/s]"
      ]
     },
     "metadata": {},
     "output_type": "display_data"
    },
    {
     "name": "stderr",
     "output_type": "stream",
     "text": [
      "--------------------------------------------------------------------------\n",
      "--------------------------------------------------------------------------\n",
      "Train loss: 168.424\n",
      "Train loss: 168.424\n",
      "Eval loss: 162.9759\n",
      "Eval loss: 162.9759\n",
      "--------------------------------------------------------------------------\n",
      "--------------------------------------------------------------------------\n"
     ]
    },
    {
     "data": {
      "application/vnd.jupyter.widget-view+json": {
       "model_id": "127f64485a014bbdb14537d22f659583",
       "version_major": 2,
       "version_minor": 0
      },
      "text/plain": [
       "Training of epoch 2/100:   0%|          | 0/63 [00:00<?, ?batch/s]"
      ]
     },
     "metadata": {},
     "output_type": "display_data"
    },
    {
     "name": "stdout",
     "output_type": "stream",
     "text": [
      "     rec_loss   reg_loss  count\n",
      "0  140.414747   4.796421    9.0\n",
      "1  139.535980   4.101363    7.0\n",
      "2  142.345742   4.341333   11.0\n",
      "3  140.097578   5.856006    9.0\n",
      "4  141.798887   9.301340    7.0\n",
      "5  145.813410  15.933093    3.0\n",
      "6  143.721301  45.294010   13.0\n",
      "7  142.111001  28.100140   12.0\n"
     ]
    },
    {
     "data": {
      "application/vnd.jupyter.widget-view+json": {
       "model_id": "63d9bd1802644fdebeb3edb04dd99345",
       "version_major": 2,
       "version_minor": 0
      },
      "text/plain": [
       "Eval of epoch 2/100:   0%|          | 0/8 [00:00<?, ?batch/s]"
      ]
     },
     "metadata": {},
     "output_type": "display_data"
    },
    {
     "name": "stderr",
     "output_type": "stream",
     "text": [
      "--------------------------------------------------------------------------\n",
      "--------------------------------------------------------------------------\n",
      "Train loss: 144.8438\n",
      "Train loss: 144.8438\n",
      "Eval loss: 152.5071\n",
      "Eval loss: 152.5071\n",
      "--------------------------------------------------------------------------\n",
      "--------------------------------------------------------------------------\n"
     ]
    },
    {
     "data": {
      "application/vnd.jupyter.widget-view+json": {
       "model_id": "303dd1e5df9b40aba5ec5c6940e9a550",
       "version_major": 2,
       "version_minor": 0
      },
      "text/plain": [
       "Training of epoch 3/100:   0%|          | 0/63 [00:00<?, ?batch/s]"
      ]
     },
     "metadata": {},
     "output_type": "display_data"
    },
    {
     "name": "stdout",
     "output_type": "stream",
     "text": [
      "     rec_loss   reg_loss  count\n",
      "0  125.496276   8.220345   12.0\n",
      "1  128.673091   8.209139    7.0\n",
      "2  128.639596   8.837713    9.0\n",
      "3  131.126755  10.372002    6.0\n",
      "4  130.933964  13.531281    8.0\n",
      "5  132.347507  25.331259   10.0\n",
      "6  134.710304  66.584125    8.0\n",
      "7  132.273992  29.068418   11.0\n"
     ]
    },
    {
     "data": {
      "application/vnd.jupyter.widget-view+json": {
       "model_id": "fdcfccc329034442842db9f1541b0d40",
       "version_major": 2,
       "version_minor": 0
      },
      "text/plain": [
       "Eval of epoch 3/100:   0%|          | 0/8 [00:00<?, ?batch/s]"
      ]
     },
     "metadata": {},
     "output_type": "display_data"
    },
    {
     "name": "stderr",
     "output_type": "stream",
     "text": [
      "--------------------------------------------------------------------------\n",
      "--------------------------------------------------------------------------\n",
      "Train loss: 136.5101\n",
      "Train loss: 136.5101\n",
      "Eval loss: 149.8641\n",
      "Eval loss: 149.8641\n",
      "--------------------------------------------------------------------------\n",
      "--------------------------------------------------------------------------\n"
     ]
    },
    {
     "data": {
      "application/vnd.jupyter.widget-view+json": {
       "model_id": "dd39e5741f734ee1a341de9b6204bef9",
       "version_major": 2,
       "version_minor": 0
      },
      "text/plain": [
       "Training of epoch 4/100:   0%|          | 0/63 [00:00<?, ?batch/s]"
      ]
     },
     "metadata": {},
     "output_type": "display_data"
    },
    {
     "name": "stdout",
     "output_type": "stream",
     "text": [
      "     rec_loss   reg_loss  count\n",
      "0  114.683692  11.134833    9.0\n",
      "1  114.110510  11.229506   11.0\n",
      "2  118.216834  10.813129   12.0\n",
      "3  121.434920  12.552951    9.0\n",
      "4  123.353138  16.457146   13.0\n",
      "5  124.378506  30.282890    6.0\n",
      "6  127.651422  72.300702    7.0\n",
      "7  130.775867  28.402854    4.0\n"
     ]
    },
    {
     "data": {
      "application/vnd.jupyter.widget-view+json": {
       "model_id": "19b5ef71a391437491fdb31cc6e1a9cc",
       "version_major": 2,
       "version_minor": 0
      },
      "text/plain": [
       "Eval of epoch 4/100:   0%|          | 0/8 [00:00<?, ?batch/s]"
      ]
     },
     "metadata": {},
     "output_type": "display_data"
    },
    {
     "name": "stderr",
     "output_type": "stream",
     "text": [
      "--------------------------------------------------------------------------\n",
      "--------------------------------------------------------------------------\n",
      "Train loss: 128.114\n",
      "Train loss: 128.114\n",
      "Eval loss: 144.5691\n",
      "Eval loss: 144.5691\n",
      "--------------------------------------------------------------------------\n",
      "--------------------------------------------------------------------------\n"
     ]
    },
    {
     "data": {
      "application/vnd.jupyter.widget-view+json": {
       "model_id": "024231465660414493d4b4530c5a6d0c",
       "version_major": 2,
       "version_minor": 0
      },
      "text/plain": [
       "Training of epoch 5/100:   0%|          | 0/63 [00:00<?, ?batch/s]"
      ]
     },
     "metadata": {},
     "output_type": "display_data"
    },
    {
     "name": "stdout",
     "output_type": "stream",
     "text": [
      "     rec_loss   reg_loss  count\n",
      "0  107.288067  11.696694    6.0\n",
      "1  107.433501  11.777694   11.0\n",
      "2  107.309597  12.375927    9.0\n",
      "3  112.869596  13.283744    8.0\n",
      "4  114.886793  18.290512   12.0\n",
      "5  120.487083  28.806518    9.0\n",
      "6  123.189386  74.063171   10.0\n",
      "7  126.752052  29.330289    6.0\n"
     ]
    },
    {
     "data": {
      "application/vnd.jupyter.widget-view+json": {
       "model_id": "a5cc787ff75a4308b47c8e9abb04e0b2",
       "version_major": 2,
       "version_minor": 0
      },
      "text/plain": [
       "Eval of epoch 5/100:   0%|          | 0/8 [00:00<?, ?batch/s]"
      ]
     },
     "metadata": {},
     "output_type": "display_data"
    },
    {
     "name": "stderr",
     "output_type": "stream",
     "text": [
      "--------------------------------------------------------------------------\n",
      "--------------------------------------------------------------------------\n",
      "Train loss: 127.1328\n",
      "Train loss: 127.1328\n",
      "Eval loss: 133.0288\n",
      "Eval loss: 133.0288\n",
      "--------------------------------------------------------------------------\n",
      "--------------------------------------------------------------------------\n"
     ]
    },
    {
     "data": {
      "application/vnd.jupyter.widget-view+json": {
       "model_id": "11fa6626d92147fc9f996b76aa0ebb0d",
       "version_major": 2,
       "version_minor": 0
      },
      "text/plain": [
       "Training of epoch 6/100:   0%|          | 0/63 [00:00<?, ?batch/s]"
      ]
     },
     "metadata": {},
     "output_type": "display_data"
    },
    {
     "name": "stdout",
     "output_type": "stream",
     "text": [
      "     rec_loss   reg_loss  count\n",
      "0   98.727900  12.583204    7.0\n",
      "1   96.333999  12.903318   11.0\n",
      "2  100.490639  12.612445   11.0\n",
      "3  104.186292  14.840371   11.0\n",
      "4  109.760791  18.550665   11.0\n",
      "5  115.817420  30.965858   11.0\n",
      "6  121.177518  67.003935    6.0\n",
      "7  125.780818  29.801984    3.0\n"
     ]
    },
    {
     "data": {
      "application/vnd.jupyter.widget-view+json": {
       "model_id": "3230f2148d6b43969ebc57b38dc50f1e",
       "version_major": 2,
       "version_minor": 0
      },
      "text/plain": [
       "Eval of epoch 6/100:   0%|          | 0/8 [00:00<?, ?batch/s]"
      ]
     },
     "metadata": {},
     "output_type": "display_data"
    },
    {
     "name": "stderr",
     "output_type": "stream",
     "text": [
      "--------------------------------------------------------------------------\n",
      "--------------------------------------------------------------------------\n",
      "Train loss: 119.6355\n",
      "Train loss: 119.6355\n",
      "Eval loss: 123.284\n",
      "Eval loss: 123.284\n",
      "--------------------------------------------------------------------------\n",
      "--------------------------------------------------------------------------\n"
     ]
    },
    {
     "data": {
      "application/vnd.jupyter.widget-view+json": {
       "model_id": "df98e98b040240e0a49d4e5577b70bdd",
       "version_major": 2,
       "version_minor": 0
      },
      "text/plain": [
       "Training of epoch 7/100:   0%|          | 0/63 [00:00<?, ?batch/s]"
      ]
     },
     "metadata": {},
     "output_type": "display_data"
    },
    {
     "name": "stdout",
     "output_type": "stream",
     "text": [
      "     rec_loss   reg_loss  count\n",
      "0   94.836355  11.929649    6.0\n",
      "1   93.792855  12.259936   11.0\n",
      "2   96.828606  12.368954    9.0\n",
      "3   99.395429  14.542789   10.0\n",
      "4  107.876622  18.019896    5.0\n",
      "5  112.951826  27.076581    8.0\n",
      "6  120.519308  64.690400   11.0\n",
      "7  122.674728  29.418123   11.0\n"
     ]
    },
    {
     "data": {
      "application/vnd.jupyter.widget-view+json": {
       "model_id": "0855c31893974cd6a3ba1dd87fbd4746",
       "version_major": 2,
       "version_minor": 0
      },
      "text/plain": [
       "Eval of epoch 7/100:   0%|          | 0/8 [00:00<?, ?batch/s]"
      ]
     },
     "metadata": {},
     "output_type": "display_data"
    },
    {
     "name": "stderr",
     "output_type": "stream",
     "text": [
      "--------------------------------------------------------------------------\n",
      "--------------------------------------------------------------------------\n",
      "Train loss: 125.607\n",
      "Train loss: 125.607\n",
      "Eval loss: 131.7607\n",
      "Eval loss: 131.7607\n",
      "--------------------------------------------------------------------------\n",
      "--------------------------------------------------------------------------\n"
     ]
    },
    {
     "data": {
      "application/vnd.jupyter.widget-view+json": {
       "model_id": "e5c7028f43a74a19ba11a2713201d19d",
       "version_major": 2,
       "version_minor": 0
      },
      "text/plain": [
       "Training of epoch 8/100:   0%|          | 0/63 [00:00<?, ?batch/s]"
      ]
     },
     "metadata": {},
     "output_type": "display_data"
    },
    {
     "name": "stdout",
     "output_type": "stream",
     "text": [
      "     rec_loss   reg_loss  count\n",
      "0   95.073177  11.356781    5.0\n",
      "1   90.710878  11.744734    8.0\n",
      "2   93.518275  12.057567    7.0\n",
      "3   98.026211  14.056216   12.0\n",
      "4  106.635353  16.714950    7.0\n",
      "5  113.336099  25.445196   12.0\n",
      "6  120.277972  57.337698   10.0\n",
      "7  122.799792  30.192076   10.0\n"
     ]
    },
    {
     "data": {
      "application/vnd.jupyter.widget-view+json": {
       "model_id": "99ec2366127841459980513bd345cb8a",
       "version_major": 2,
       "version_minor": 0
      },
      "text/plain": [
       "Eval of epoch 8/100:   0%|          | 0/8 [00:00<?, ?batch/s]"
      ]
     },
     "metadata": {},
     "output_type": "display_data"
    },
    {
     "name": "stderr",
     "output_type": "stream",
     "text": [
      "--------------------------------------------------------------------------\n",
      "--------------------------------------------------------------------------\n",
      "Train loss: 125.527\n",
      "Train loss: 125.527\n",
      "Eval loss: 117.0772\n",
      "Eval loss: 117.0772\n",
      "--------------------------------------------------------------------------\n",
      "--------------------------------------------------------------------------\n"
     ]
    },
    {
     "data": {
      "application/vnd.jupyter.widget-view+json": {
       "model_id": "8d5fe921ca5648d9bc2bb7daaad25a07",
       "version_major": 2,
       "version_minor": 0
      },
      "text/plain": [
       "Training of epoch 9/100:   0%|          | 0/63 [00:00<?, ?batch/s]"
      ]
     },
     "metadata": {},
     "output_type": "display_data"
    },
    {
     "name": "stdout",
     "output_type": "stream",
     "text": [
      "     rec_loss   reg_loss  count\n",
      "0   88.108522  11.344878    6.0\n",
      "1   82.797410  12.773335   14.0\n",
      "2   88.830472  12.126065    8.0\n",
      "3   93.150481  14.232517   11.0\n",
      "4  103.942799  17.173553   12.0\n",
      "5  109.521797  25.975383    6.0\n",
      "6  119.950583  54.155422    6.0\n",
      "7  120.781441  29.021335    8.0\n"
     ]
    },
    {
     "data": {
      "application/vnd.jupyter.widget-view+json": {
       "model_id": "b14315faedb444d6bcbd0c54d01a8c10",
       "version_major": 2,
       "version_minor": 0
      },
      "text/plain": [
       "Eval of epoch 9/100:   0%|          | 0/8 [00:00<?, ?batch/s]"
      ]
     },
     "metadata": {},
     "output_type": "display_data"
    },
    {
     "name": "stderr",
     "output_type": "stream",
     "text": [
      "--------------------------------------------------------------------------\n",
      "--------------------------------------------------------------------------\n",
      "Train loss: 116.9567\n",
      "Train loss: 116.9567\n",
      "Eval loss: 128.5504\n",
      "Eval loss: 128.5504\n",
      "--------------------------------------------------------------------------\n",
      "--------------------------------------------------------------------------\n"
     ]
    },
    {
     "data": {
      "application/vnd.jupyter.widget-view+json": {
       "model_id": "e2811cbb8a3c450ea3d1d75fa72210e7",
       "version_major": 2,
       "version_minor": 0
      },
      "text/plain": [
       "Training of epoch 10/100:   0%|          | 0/63 [00:00<?, ?batch/s]"
      ]
     },
     "metadata": {},
     "output_type": "display_data"
    },
    {
     "name": "stdout",
     "output_type": "stream",
     "text": [
      "     rec_loss   reg_loss  count\n",
      "0   87.734303  11.124399    4.0\n",
      "1   80.422283  12.502574    8.0\n",
      "2   86.464015  11.984055    9.0\n",
      "3   91.114219  13.928642   12.0\n",
      "4  100.884712  16.611641    8.0\n",
      "5  110.974280  24.815947    9.0\n",
      "6  119.385831  50.758271   12.0\n",
      "7  120.107527  27.601436    9.0\n"
     ]
    },
    {
     "data": {
      "application/vnd.jupyter.widget-view+json": {
       "model_id": "9aa780c6dc8c42c39902f353fa421998",
       "version_major": 2,
       "version_minor": 0
      },
      "text/plain": [
       "Eval of epoch 10/100:   0%|          | 0/8 [00:00<?, ?batch/s]"
      ]
     },
     "metadata": {},
     "output_type": "display_data"
    },
    {
     "name": "stderr",
     "output_type": "stream",
     "text": [
      "--------------------------------------------------------------------------\n",
      "--------------------------------------------------------------------------\n",
      "Train loss: 123.6535\n",
      "Train loss: 123.6535\n",
      "Eval loss: 117.6941\n",
      "Eval loss: 117.6941\n",
      "--------------------------------------------------------------------------\n",
      "--------------------------------------------------------------------------\n"
     ]
    },
    {
     "data": {
      "application/vnd.jupyter.widget-view+json": {
       "model_id": "872f2d47de2c4cbbb3892c9301210b7b",
       "version_major": 2,
       "version_minor": 0
      },
      "text/plain": [
       "Training of epoch 11/100:   0%|          | 0/63 [00:00<?, ?batch/s]"
      ]
     },
     "metadata": {},
     "output_type": "display_data"
    },
    {
     "name": "stdout",
     "output_type": "stream",
     "text": [
      "     rec_loss   reg_loss  count\n",
      "0   85.545832  10.699812    9.0\n",
      "1   81.563637  11.486801   10.0\n",
      "2   85.194710  11.686506   11.0\n",
      "3   90.390702  14.335266   10.0\n",
      "4  101.419024  16.348331    7.0\n",
      "5  111.034696  24.426885    6.0\n",
      "6  119.934011  48.837714   11.0\n",
      "7  120.343566  28.060531    7.0\n"
     ]
    },
    {
     "data": {
      "application/vnd.jupyter.widget-view+json": {
       "model_id": "8d4536f4debc409cbf30302cb0a80e2d",
       "version_major": 2,
       "version_minor": 0
      },
      "text/plain": [
       "Eval of epoch 11/100:   0%|          | 0/8 [00:00<?, ?batch/s]"
      ]
     },
     "metadata": {},
     "output_type": "display_data"
    },
    {
     "name": "stderr",
     "output_type": "stream",
     "text": [
      "--------------------------------------------------------------------------\n",
      "--------------------------------------------------------------------------\n",
      "Train loss: 119.0567\n",
      "Train loss: 119.0567\n",
      "Eval loss: 114.246\n",
      "Eval loss: 114.246\n",
      "--------------------------------------------------------------------------\n",
      "--------------------------------------------------------------------------\n"
     ]
    },
    {
     "data": {
      "application/vnd.jupyter.widget-view+json": {
       "model_id": "adb427b293d74a528727ff8058b0c409",
       "version_major": 2,
       "version_minor": 0
      },
      "text/plain": [
       "Training of epoch 12/100:   0%|          | 0/63 [00:00<?, ?batch/s]"
      ]
     },
     "metadata": {},
     "output_type": "display_data"
    },
    {
     "name": "stdout",
     "output_type": "stream",
     "text": [
      "     rec_loss   reg_loss  count\n",
      "0   82.414183  11.759470   13.0\n",
      "1   76.126639  12.391478    8.0\n",
      "2   80.971747  12.853843    9.0\n",
      "3   87.731263  14.154594   11.0\n",
      "4   99.286885  17.048414   10.0\n",
      "5  109.538081  24.123991    6.0\n",
      "6  118.915832  50.573832    8.0\n",
      "7  115.255423  27.437888    6.0\n"
     ]
    },
    {
     "data": {
      "application/vnd.jupyter.widget-view+json": {
       "model_id": "505397cc9d7e4e7c907660b5a4011653",
       "version_major": 2,
       "version_minor": 0
      },
      "text/plain": [
       "Eval of epoch 12/100:   0%|          | 0/8 [00:00<?, ?batch/s]"
      ]
     },
     "metadata": {},
     "output_type": "display_data"
    },
    {
     "name": "stderr",
     "output_type": "stream",
     "text": [
      "--------------------------------------------------------------------------\n",
      "--------------------------------------------------------------------------\n",
      "Train loss: 113.6669\n",
      "Train loss: 113.6669\n",
      "Eval loss: 106.1399\n",
      "Eval loss: 106.1399\n",
      "--------------------------------------------------------------------------\n",
      "--------------------------------------------------------------------------\n"
     ]
    },
    {
     "data": {
      "application/vnd.jupyter.widget-view+json": {
       "model_id": "2eebd03ed9d6498e9c6f6117d91c2d60",
       "version_major": 2,
       "version_minor": 0
      },
      "text/plain": [
       "Training of epoch 13/100:   0%|          | 0/63 [00:00<?, ?batch/s]"
      ]
     },
     "metadata": {},
     "output_type": "display_data"
    },
    {
     "name": "stdout",
     "output_type": "stream",
     "text": [
      "     rec_loss   reg_loss  count\n",
      "0   80.783678  12.221063    8.0\n",
      "1   74.222958  13.217383   15.0\n",
      "2   80.359159  13.100978    7.0\n",
      "3   88.056241  14.256676    7.0\n",
      "4   99.232350  16.500789    7.0\n",
      "5  111.159359  24.218045    9.0\n",
      "6  119.092792  51.063406    7.0\n",
      "7  117.030540  25.991143   11.0\n"
     ]
    },
    {
     "data": {
      "application/vnd.jupyter.widget-view+json": {
       "model_id": "90d5a6d7d68c43deb459d060f3d0c50c",
       "version_major": 2,
       "version_minor": 0
      },
      "text/plain": [
       "Eval of epoch 13/100:   0%|          | 0/8 [00:00<?, ?batch/s]"
      ]
     },
     "metadata": {},
     "output_type": "display_data"
    },
    {
     "name": "stderr",
     "output_type": "stream",
     "text": [
      "--------------------------------------------------------------------------\n",
      "--------------------------------------------------------------------------\n",
      "Train loss: 116.9809\n",
      "Train loss: 116.9809\n",
      "Eval loss: 131.9894\n",
      "Eval loss: 131.9894\n",
      "--------------------------------------------------------------------------\n",
      "--------------------------------------------------------------------------\n"
     ]
    },
    {
     "data": {
      "application/vnd.jupyter.widget-view+json": {
       "model_id": "e575de3f9c8d449f95000d161dd8c678",
       "version_major": 2,
       "version_minor": 0
      },
      "text/plain": [
       "Training of epoch 14/100:   0%|          | 0/63 [00:00<?, ?batch/s]"
      ]
     },
     "metadata": {},
     "output_type": "display_data"
    },
    {
     "name": "stdout",
     "output_type": "stream",
     "text": [
      "     rec_loss   reg_loss  count\n",
      "0   91.061296  11.888909    6.0\n",
      "1   89.123867  11.207138    8.0\n",
      "2   88.516783  12.254443   12.0\n",
      "3   96.370389  13.473860    6.0\n",
      "4  108.542913  16.789165    4.0\n",
      "5  113.979915  23.525177   11.0\n",
      "6  123.481711  50.051557   11.0\n",
      "7  122.586141  27.940111   13.0\n"
     ]
    },
    {
     "data": {
      "application/vnd.jupyter.widget-view+json": {
       "model_id": "93fa9cb698ae41608af77ceb4dc4ae9b",
       "version_major": 2,
       "version_minor": 0
      },
      "text/plain": [
       "Eval of epoch 14/100:   0%|          | 0/8 [00:00<?, ?batch/s]"
      ]
     },
     "metadata": {},
     "output_type": "display_data"
    },
    {
     "name": "stderr",
     "output_type": "stream",
     "text": [
      "--------------------------------------------------------------------------\n",
      "--------------------------------------------------------------------------\n",
      "Train loss: 128.7674\n",
      "Train loss: 128.7674\n",
      "Eval loss: 133.4008\n",
      "Eval loss: 133.4008\n",
      "--------------------------------------------------------------------------\n",
      "--------------------------------------------------------------------------\n"
     ]
    },
    {
     "data": {
      "application/vnd.jupyter.widget-view+json": {
       "model_id": "bbf1fa6aeede408c99951b8de1cc5958",
       "version_major": 2,
       "version_minor": 0
      },
      "text/plain": [
       "Training of epoch 15/100:   0%|          | 0/63 [00:00<?, ?batch/s]"
      ]
     },
     "metadata": {},
     "output_type": "display_data"
    },
    {
     "name": "stdout",
     "output_type": "stream",
     "text": [
      "     rec_loss   reg_loss  count\n",
      "0   84.701237  11.074695   12.0\n",
      "1   82.014430  11.375040    5.0\n",
      "2   82.545703  12.246516    8.0\n",
      "3   91.343192  12.933216   11.0\n",
      "4  100.454271  16.364868    6.0\n",
      "5  110.686641  25.050304   10.0\n",
      "6  120.399339  53.453945    9.0\n",
      "7  121.189059  29.565602   10.0\n"
     ]
    },
    {
     "data": {
      "application/vnd.jupyter.widget-view+json": {
       "model_id": "78ab8b1123e94a5c87cc0e49130b542b",
       "version_major": 2,
       "version_minor": 0
      },
      "text/plain": [
       "Eval of epoch 15/100:   0%|          | 0/8 [00:00<?, ?batch/s]"
      ]
     },
     "metadata": {},
     "output_type": "display_data"
    },
    {
     "name": "stderr",
     "output_type": "stream",
     "text": [
      "--------------------------------------------------------------------------\n",
      "--------------------------------------------------------------------------\n",
      "Train loss: 120.3959\n",
      "Train loss: 120.3959\n",
      "Eval loss: 107.3103\n",
      "Eval loss: 107.3103\n",
      "--------------------------------------------------------------------------\n",
      "--------------------------------------------------------------------------\n"
     ]
    },
    {
     "data": {
      "application/vnd.jupyter.widget-view+json": {
       "model_id": "8110afe7938b43e982d7afb02eacfb65",
       "version_major": 2,
       "version_minor": 0
      },
      "text/plain": [
       "Training of epoch 16/100:   0%|          | 0/63 [00:00<?, ?batch/s]"
      ]
     },
     "metadata": {},
     "output_type": "display_data"
    },
    {
     "name": "stdout",
     "output_type": "stream",
     "text": [
      "     rec_loss   reg_loss  count\n",
      "0   78.859306  12.078861    6.0\n",
      "1   74.360044  12.850261   12.0\n",
      "2   78.801082  12.661374   11.0\n",
      "3   86.790786  13.576201    7.0\n",
      "4   97.166847  17.358533    8.0\n",
      "5  107.652524  24.506365    9.0\n",
      "6  118.209685  53.068984    9.0\n",
      "7  115.870026  28.616061    9.0\n"
     ]
    },
    {
     "data": {
      "application/vnd.jupyter.widget-view+json": {
       "model_id": "9dc4b5e06eac4b9596f176edf7968d24",
       "version_major": 2,
       "version_minor": 0
      },
      "text/plain": [
       "Eval of epoch 16/100:   0%|          | 0/8 [00:00<?, ?batch/s]"
      ]
     },
     "metadata": {},
     "output_type": "display_data"
    },
    {
     "name": "stderr",
     "output_type": "stream",
     "text": [
      "--------------------------------------------------------------------------\n",
      "--------------------------------------------------------------------------\n",
      "Train loss: 117.2991\n",
      "Train loss: 117.2991\n",
      "Eval loss: 122.2276\n",
      "Eval loss: 122.2276\n",
      "--------------------------------------------------------------------------\n",
      "--------------------------------------------------------------------------\n"
     ]
    },
    {
     "data": {
      "application/vnd.jupyter.widget-view+json": {
       "model_id": "0271336b424044b0944c985c01537766",
       "version_major": 2,
       "version_minor": 0
      },
      "text/plain": [
       "Training of epoch 17/100:   0%|          | 0/63 [00:00<?, ?batch/s]"
      ]
     },
     "metadata": {},
     "output_type": "display_data"
    },
    {
     "name": "stdout",
     "output_type": "stream",
     "text": [
      "     rec_loss   reg_loss  count\n",
      "0   74.506545  12.292431   11.0\n",
      "1   71.678862  12.998310    7.0\n",
      "2   77.029996  12.843556    6.0\n",
      "3   84.117524  14.259500   14.0\n",
      "4   93.968779  17.384648    4.0\n",
      "5  106.067298  25.075188    9.0\n",
      "6  115.898481  50.260140   10.0\n",
      "7  114.639839  27.682863   10.0\n"
     ]
    },
    {
     "data": {
      "application/vnd.jupyter.widget-view+json": {
       "model_id": "1c0a3538500b4e4aaa8fb4cad639f3b8",
       "version_major": 2,
       "version_minor": 0
      },
      "text/plain": [
       "Eval of epoch 17/100:   0%|          | 0/8 [00:00<?, ?batch/s]"
      ]
     },
     "metadata": {},
     "output_type": "display_data"
    },
    {
     "name": "stderr",
     "output_type": "stream",
     "text": [
      "--------------------------------------------------------------------------\n",
      "--------------------------------------------------------------------------\n",
      "Train loss: 114.2339\n",
      "Train loss: 114.2339\n",
      "Eval loss: 119.0962\n",
      "Eval loss: 119.0962\n",
      "--------------------------------------------------------------------------\n",
      "--------------------------------------------------------------------------\n"
     ]
    },
    {
     "data": {
      "application/vnd.jupyter.widget-view+json": {
       "model_id": "ed6334bb84984a298b8cd407f8d89937",
       "version_major": 2,
       "version_minor": 0
      },
      "text/plain": [
       "Training of epoch 18/100:   0%|          | 0/63 [00:00<?, ?batch/s]"
      ]
     },
     "metadata": {},
     "output_type": "display_data"
    },
    {
     "name": "stdout",
     "output_type": "stream",
     "text": [
      "     rec_loss   reg_loss  count\n",
      "0   72.432087  12.602551    8.0\n",
      "1   69.844487  13.345095   11.0\n",
      "2   74.382494  13.263557   13.0\n",
      "3   83.160395  14.438833    8.0\n",
      "4   94.242274  17.325428    9.0\n",
      "5  105.665030  24.862352    6.0\n",
      "6  116.524510  50.696447   10.0\n",
      "7  114.554396  27.151044    6.0\n"
     ]
    },
    {
     "data": {
      "application/vnd.jupyter.widget-view+json": {
       "model_id": "2fbdd4294a0440afa8e99643ddf23089",
       "version_major": 2,
       "version_minor": 0
      },
      "text/plain": [
       "Eval of epoch 18/100:   0%|          | 0/8 [00:00<?, ?batch/s]"
      ]
     },
     "metadata": {},
     "output_type": "display_data"
    },
    {
     "name": "stderr",
     "output_type": "stream",
     "text": [
      "--------------------------------------------------------------------------\n",
      "--------------------------------------------------------------------------\n",
      "Train loss: 109.0873\n",
      "Train loss: 109.0873\n",
      "Eval loss: 109.5399\n",
      "Eval loss: 109.5399\n",
      "--------------------------------------------------------------------------\n",
      "--------------------------------------------------------------------------\n"
     ]
    },
    {
     "data": {
      "application/vnd.jupyter.widget-view+json": {
       "model_id": "09b393c9684f494bb2ad8a672f8da59d",
       "version_major": 2,
       "version_minor": 0
      },
      "text/plain": [
       "Training of epoch 19/100:   0%|          | 0/63 [00:00<?, ?batch/s]"
      ]
     },
     "metadata": {},
     "output_type": "display_data"
    },
    {
     "name": "stdout",
     "output_type": "stream",
     "text": [
      "     rec_loss   reg_loss  count\n",
      "0   69.714468  13.519170   10.0\n",
      "1   66.429576  13.473256    3.0\n",
      "2   71.504002  13.780377   14.0\n",
      "3   80.274139  14.932324    8.0\n",
      "4   92.774547  17.563388   14.0\n",
      "5  103.316675  24.914278    6.0\n",
      "6  116.131783  51.189367    7.0\n",
      "7  111.404271  25.297452    9.0\n"
     ]
    },
    {
     "data": {
      "application/vnd.jupyter.widget-view+json": {
       "model_id": "e9fa5a88b3334eb8be88b142289ab9d3",
       "version_major": 2,
       "version_minor": 0
      },
      "text/plain": [
       "Eval of epoch 19/100:   0%|          | 0/8 [00:00<?, ?batch/s]"
      ]
     },
     "metadata": {},
     "output_type": "display_data"
    },
    {
     "name": "stderr",
     "output_type": "stream",
     "text": [
      "--------------------------------------------------------------------------\n",
      "--------------------------------------------------------------------------\n",
      "Train loss: 109.0006\n",
      "Train loss: 109.0006\n",
      "Eval loss: 117.764\n",
      "Eval loss: 117.764\n",
      "--------------------------------------------------------------------------\n",
      "--------------------------------------------------------------------------\n"
     ]
    },
    {
     "data": {
      "application/vnd.jupyter.widget-view+json": {
       "model_id": "903db47d37644dbfbd7b8ff6c90cc160",
       "version_major": 2,
       "version_minor": 0
      },
      "text/plain": [
       "Training of epoch 20/100:   0%|          | 0/63 [00:00<?, ?batch/s]"
      ]
     },
     "metadata": {},
     "output_type": "display_data"
    },
    {
     "name": "stdout",
     "output_type": "stream",
     "text": [
      "     rec_loss   reg_loss  count\n",
      "0   72.630912  14.320441    8.0\n",
      "1   66.983563  14.000835    7.0\n",
      "2   74.266979  13.487488    9.0\n",
      "3   81.277058  14.616178    7.0\n",
      "4   93.360284  17.564267   10.0\n",
      "5  105.425639  24.476182    8.0\n",
      "6  115.496238  50.639867   13.0\n",
      "7  110.848881  25.450789    9.0\n"
     ]
    },
    {
     "data": {
      "application/vnd.jupyter.widget-view+json": {
       "model_id": "3cb2673494c1403fb6b11c8e19a7ce2d",
       "version_major": 2,
       "version_minor": 0
      },
      "text/plain": [
       "Eval of epoch 20/100:   0%|          | 0/8 [00:00<?, ?batch/s]"
      ]
     },
     "metadata": {},
     "output_type": "display_data"
    },
    {
     "name": "stderr",
     "output_type": "stream",
     "text": [
      "--------------------------------------------------------------------------\n",
      "--------------------------------------------------------------------------\n",
      "Train loss: 116.1327\n",
      "Train loss: 116.1327\n",
      "Eval loss: 111.9407\n",
      "Eval loss: 111.9407\n",
      "--------------------------------------------------------------------------\n",
      "--------------------------------------------------------------------------\n"
     ]
    },
    {
     "data": {
      "application/vnd.jupyter.widget-view+json": {
       "model_id": "8f31898626864a7c932e7ecb6d2df8d3",
       "version_major": 2,
       "version_minor": 0
      },
      "text/plain": [
       "Training of epoch 21/100:   0%|          | 0/63 [00:00<?, ?batch/s]"
      ]
     },
     "metadata": {},
     "output_type": "display_data"
    },
    {
     "name": "stdout",
     "output_type": "stream",
     "text": [
      "     rec_loss   reg_loss  count\n",
      "0   68.397519  13.099896    6.0\n",
      "1   66.094519  13.754176    8.0\n",
      "2   71.186147  13.857660   11.0\n",
      "3   80.393976  14.630178   12.0\n",
      "4   91.684181  18.012305   11.0\n",
      "5  103.631076  24.272331    8.0\n",
      "6  114.572605  50.675836    8.0\n",
      "7  110.322234  24.046506    7.0\n"
     ]
    },
    {
     "data": {
      "application/vnd.jupyter.widget-view+json": {
       "model_id": "91d32f38a97447c0a8f846cd1bd37f72",
       "version_major": 2,
       "version_minor": 0
      },
      "text/plain": [
       "Eval of epoch 21/100:   0%|          | 0/8 [00:00<?, ?batch/s]"
      ]
     },
     "metadata": {},
     "output_type": "display_data"
    },
    {
     "name": "stderr",
     "output_type": "stream",
     "text": [
      "--------------------------------------------------------------------------\n",
      "--------------------------------------------------------------------------\n",
      "Train loss: 107.9441\n",
      "Train loss: 107.9441\n",
      "Eval loss: 103.9567\n",
      "Eval loss: 103.9567\n",
      "--------------------------------------------------------------------------\n",
      "--------------------------------------------------------------------------\n"
     ]
    },
    {
     "data": {
      "application/vnd.jupyter.widget-view+json": {
       "model_id": "20b3ffec025b48c88ca4341b8a29b103",
       "version_major": 2,
       "version_minor": 0
      },
      "text/plain": [
       "Training of epoch 22/100:   0%|          | 0/63 [00:00<?, ?batch/s]"
      ]
     },
     "metadata": {},
     "output_type": "display_data"
    },
    {
     "name": "stdout",
     "output_type": "stream",
     "text": [
      "     rec_loss   reg_loss  count\n",
      "0   68.802425  13.512377   13.0\n",
      "1   65.284297  14.076735   12.0\n",
      "2   71.613355  13.774713    9.0\n",
      "3   81.384028  14.715797    6.0\n",
      "4   92.811147  17.619831   10.0\n",
      "5  104.440225  25.197016    6.0\n",
      "6  115.272647  50.667658    6.0\n",
      "7  109.556209  24.388993    9.0\n"
     ]
    },
    {
     "data": {
      "application/vnd.jupyter.widget-view+json": {
       "model_id": "026f07bd75bb409c9aa165a2d89f59b7",
       "version_major": 2,
       "version_minor": 0
      },
      "text/plain": [
       "Eval of epoch 22/100:   0%|          | 0/8 [00:00<?, ?batch/s]"
      ]
     },
     "metadata": {},
     "output_type": "display_data"
    },
    {
     "name": "stderr",
     "output_type": "stream",
     "text": [
      "--------------------------------------------------------------------------\n",
      "--------------------------------------------------------------------------\n",
      "Train loss: 105.0658\n",
      "Train loss: 105.0658\n",
      "Eval loss: 91.4927\n",
      "Eval loss: 91.4927\n",
      "--------------------------------------------------------------------------\n",
      "--------------------------------------------------------------------------\n"
     ]
    },
    {
     "data": {
      "application/vnd.jupyter.widget-view+json": {
       "model_id": "92358578f52b4e6dabbf89e5b596cb21",
       "version_major": 2,
       "version_minor": 0
      },
      "text/plain": [
       "Training of epoch 23/100:   0%|          | 0/63 [00:00<?, ?batch/s]"
      ]
     },
     "metadata": {},
     "output_type": "display_data"
    },
    {
     "name": "stdout",
     "output_type": "stream",
     "text": [
      "     rec_loss   reg_loss  count\n",
      "0   72.178791  12.943961    8.0\n",
      "1   65.994895  13.958294   10.0\n",
      "2   71.949860  13.494352    9.0\n",
      "3   82.152933  14.199109   11.0\n",
      "4   91.423406  17.698185    8.0\n",
      "5  106.622228  24.033498    8.0\n",
      "6  116.489360  49.606913    9.0\n",
      "7  113.510109  23.539179    8.0\n"
     ]
    },
    {
     "data": {
      "application/vnd.jupyter.widget-view+json": {
       "model_id": "18e2055a3d2e4b0e87b8581fb2aa2663",
       "version_major": 2,
       "version_minor": 0
      },
      "text/plain": [
       "Eval of epoch 23/100:   0%|          | 0/8 [00:00<?, ?batch/s]"
      ]
     },
     "metadata": {},
     "output_type": "display_data"
    },
    {
     "name": "stderr",
     "output_type": "stream",
     "text": [
      "--------------------------------------------------------------------------\n",
      "--------------------------------------------------------------------------\n",
      "Train loss: 112.4908\n",
      "Train loss: 112.4908\n",
      "Eval loss: 87.5945\n",
      "Eval loss: 87.5945\n",
      "--------------------------------------------------------------------------\n",
      "--------------------------------------------------------------------------\n"
     ]
    },
    {
     "data": {
      "application/vnd.jupyter.widget-view+json": {
       "model_id": "16384dc58869400da5f26185619c3930",
       "version_major": 2,
       "version_minor": 0
      },
      "text/plain": [
       "Training of epoch 24/100:   0%|          | 0/63 [00:00<?, ?batch/s]"
      ]
     },
     "metadata": {},
     "output_type": "display_data"
    },
    {
     "name": "stdout",
     "output_type": "stream",
     "text": [
      "     rec_loss   reg_loss  count\n",
      "0   66.563460  13.375880   12.0\n",
      "1   62.662564  14.333561    8.0\n",
      "2   68.431108  13.199778   11.0\n",
      "3   78.094648  14.921952    9.0\n",
      "4   90.582246  18.160667   11.0\n",
      "5  102.331319  25.064027    6.0\n",
      "6  114.341974  49.205547   10.0\n",
      "7  110.529181  26.162621    4.0\n"
     ]
    },
    {
     "data": {
      "application/vnd.jupyter.widget-view+json": {
       "model_id": "4128db4bcd064e1981f8c1b1e034b754",
       "version_major": 2,
       "version_minor": 0
      },
      "text/plain": [
       "Eval of epoch 24/100:   0%|          | 0/8 [00:00<?, ?batch/s]"
      ]
     },
     "metadata": {},
     "output_type": "display_data"
    },
    {
     "name": "stderr",
     "output_type": "stream",
     "text": [
      "--------------------------------------------------------------------------\n",
      "--------------------------------------------------------------------------\n",
      "Train loss: 107.1803\n",
      "Train loss: 107.1803\n",
      "Eval loss: 119.5275\n",
      "Eval loss: 119.5275\n",
      "--------------------------------------------------------------------------\n",
      "--------------------------------------------------------------------------\n"
     ]
    },
    {
     "data": {
      "application/vnd.jupyter.widget-view+json": {
       "model_id": "53f9746a7db04bab915030127ed0beb7",
       "version_major": 2,
       "version_minor": 0
      },
      "text/plain": [
       "Training of epoch 25/100:   0%|          | 0/63 [00:00<?, ?batch/s]"
      ]
     },
     "metadata": {},
     "output_type": "display_data"
    },
    {
     "name": "stdout",
     "output_type": "stream",
     "text": [
      "     rec_loss   reg_loss  count\n",
      "0   64.749541  13.807674   11.0\n",
      "1   60.696265  14.536546   10.0\n",
      "2   68.676970  14.099951    7.0\n",
      "3   78.216124  15.226039    4.0\n",
      "4   88.943726  18.019194    9.0\n",
      "5  103.876413  24.806643    8.0\n",
      "6  114.206220  49.261039   13.0\n",
      "7  110.780319  25.347143    9.0\n"
     ]
    },
    {
     "data": {
      "application/vnd.jupyter.widget-view+json": {
       "model_id": "96fef74652f649e789d3ec0085bf5e14",
       "version_major": 2,
       "version_minor": 0
      },
      "text/plain": [
       "Eval of epoch 25/100:   0%|          | 0/8 [00:00<?, ?batch/s]"
      ]
     },
     "metadata": {},
     "output_type": "display_data"
    },
    {
     "name": "stderr",
     "output_type": "stream",
     "text": [
      "--------------------------------------------------------------------------\n",
      "--------------------------------------------------------------------------\n",
      "Train loss: 110.4095\n",
      "Train loss: 110.4095\n",
      "Eval loss: 87.775\n",
      "Eval loss: 87.775\n",
      "--------------------------------------------------------------------------\n",
      "--------------------------------------------------------------------------\n"
     ]
    },
    {
     "data": {
      "application/vnd.jupyter.widget-view+json": {
       "model_id": "bc1f16702de74df789f2f206669ffc07",
       "version_major": 2,
       "version_minor": 0
      },
      "text/plain": [
       "Training of epoch 26/100:   0%|          | 0/63 [00:00<?, ?batch/s]"
      ]
     },
     "metadata": {},
     "output_type": "display_data"
    },
    {
     "name": "stdout",
     "output_type": "stream",
     "text": [
      "     rec_loss   reg_loss  count\n",
      "0   62.726571  14.079362   15.0\n",
      "1   60.575157  14.653081   11.0\n",
      "2   66.505620  14.108098    7.0\n",
      "3   78.322394  14.831006    6.0\n",
      "4   88.816452  17.767265   10.0\n",
      "5  102.335832  24.633717    7.0\n",
      "6  115.051862  49.953577    7.0\n",
      "7  108.636579  26.044528    8.0\n"
     ]
    },
    {
     "data": {
      "application/vnd.jupyter.widget-view+json": {
       "model_id": "c6e45ec656f64f7d994bd9008f38aa78",
       "version_major": 2,
       "version_minor": 0
      },
      "text/plain": [
       "Eval of epoch 26/100:   0%|          | 0/8 [00:00<?, ?batch/s]"
      ]
     },
     "metadata": {},
     "output_type": "display_data"
    },
    {
     "name": "stderr",
     "output_type": "stream",
     "text": [
      "--------------------------------------------------------------------------\n",
      "--------------------------------------------------------------------------\n",
      "Train loss: 104.5671\n",
      "Train loss: 104.5671\n",
      "Eval loss: 98.6667\n",
      "Eval loss: 98.6667\n",
      "--------------------------------------------------------------------------\n",
      "--------------------------------------------------------------------------\n"
     ]
    },
    {
     "data": {
      "application/vnd.jupyter.widget-view+json": {
       "model_id": "d6474f295f084e5f954c4fb28683e678",
       "version_major": 2,
       "version_minor": 0
      },
      "text/plain": [
       "Training of epoch 27/100:   0%|          | 0/63 [00:00<?, ?batch/s]"
      ]
     },
     "metadata": {},
     "output_type": "display_data"
    },
    {
     "name": "stdout",
     "output_type": "stream",
     "text": [
      "     rec_loss   reg_loss  count\n",
      "0   60.459013  14.905560    6.0\n",
      "1   58.349941  14.610026    9.0\n",
      "2   66.123426  14.125429   10.0\n",
      "3   75.782589  14.805519   14.0\n",
      "4   89.441436  17.804042   13.0\n",
      "5  101.623654  24.975663    7.0\n",
      "6  113.023175  51.061324    5.0\n",
      "7  106.608128  23.729140    7.0\n"
     ]
    },
    {
     "data": {
      "application/vnd.jupyter.widget-view+json": {
       "model_id": "43786974820f487395a587ad3cb0602d",
       "version_major": 2,
       "version_minor": 0
      },
      "text/plain": [
       "Eval of epoch 27/100:   0%|          | 0/8 [00:00<?, ?batch/s]"
      ]
     },
     "metadata": {},
     "output_type": "display_data"
    },
    {
     "name": "stderr",
     "output_type": "stream",
     "text": [
      "--------------------------------------------------------------------------\n",
      "--------------------------------------------------------------------------\n",
      "Train loss: 101.641\n",
      "Train loss: 101.641\n",
      "Eval loss: 106.8757\n",
      "Eval loss: 106.8757\n",
      "--------------------------------------------------------------------------\n",
      "--------------------------------------------------------------------------\n"
     ]
    },
    {
     "data": {
      "application/vnd.jupyter.widget-view+json": {
       "model_id": "c2bc9c2bdbab4b8c8b663170ad62db39",
       "version_major": 2,
       "version_minor": 0
      },
      "text/plain": [
       "Training of epoch 28/100:   0%|          | 0/63 [00:00<?, ?batch/s]"
      ]
     },
     "metadata": {},
     "output_type": "display_data"
    },
    {
     "name": "stdout",
     "output_type": "stream",
     "text": [
      "     rec_loss   reg_loss  count\n",
      "0   63.671843  14.196369    7.0\n",
      "1   59.171820  15.560028    7.0\n",
      "2   65.212944  14.154577    6.0\n",
      "3   75.936208  15.362124    8.0\n",
      "4   86.807174  18.304237   14.0\n",
      "5  100.553041  25.398167    7.0\n",
      "6  113.366974  50.723630   11.0\n",
      "7  102.070434  22.143743   11.0\n"
     ]
    },
    {
     "data": {
      "application/vnd.jupyter.widget-view+json": {
       "model_id": "9da08172797b49a5a57379634b4640ff",
       "version_major": 2,
       "version_minor": 0
      },
      "text/plain": [
       "Eval of epoch 28/100:   0%|          | 0/8 [00:00<?, ?batch/s]"
      ]
     },
     "metadata": {},
     "output_type": "display_data"
    },
    {
     "name": "stderr",
     "output_type": "stream",
     "text": [
      "--------------------------------------------------------------------------\n",
      "--------------------------------------------------------------------------\n",
      "Train loss: 110.2279\n",
      "Train loss: 110.2279\n",
      "Eval loss: 95.609\n",
      "Eval loss: 95.609\n",
      "--------------------------------------------------------------------------\n",
      "--------------------------------------------------------------------------\n"
     ]
    },
    {
     "data": {
      "application/vnd.jupyter.widget-view+json": {
       "model_id": "38546d049541425995233fe8e627f641",
       "version_major": 2,
       "version_minor": 0
      },
      "text/plain": [
       "Training of epoch 29/100:   0%|          | 0/63 [00:00<?, ?batch/s]"
      ]
     },
     "metadata": {},
     "output_type": "display_data"
    },
    {
     "name": "stdout",
     "output_type": "stream",
     "text": [
      "     rec_loss   reg_loss  count\n",
      "0   67.057666  16.456252   10.0\n",
      "1   63.662828  14.372012   11.0\n",
      "2   72.344705  14.008669   10.0\n",
      "3   75.824860  15.004066    4.0\n",
      "4   90.466938  17.834798    8.0\n",
      "5  104.675997  25.449584    8.0\n",
      "6  114.330412  50.525951    7.0\n",
      "7  104.303575  20.231058   13.0\n"
     ]
    },
    {
     "data": {
      "application/vnd.jupyter.widget-view+json": {
       "model_id": "7ae371963fa0431997a499ff1e51b21d",
       "version_major": 2,
       "version_minor": 0
      },
      "text/plain": [
       "Eval of epoch 29/100:   0%|          | 0/8 [00:00<?, ?batch/s]"
      ]
     },
     "metadata": {},
     "output_type": "display_data"
    },
    {
     "name": "stderr",
     "output_type": "stream",
     "text": [
      "--------------------------------------------------------------------------\n",
      "--------------------------------------------------------------------------\n",
      "Train loss: 108.5058\n",
      "Train loss: 108.5058\n",
      "Eval loss: 123.3772\n",
      "Eval loss: 123.3772\n",
      "--------------------------------------------------------------------------\n",
      "--------------------------------------------------------------------------\n"
     ]
    },
    {
     "data": {
      "application/vnd.jupyter.widget-view+json": {
       "model_id": "142cb2a3a9c148b0829f2c07eb36437f",
       "version_major": 2,
       "version_minor": 0
      },
      "text/plain": [
       "Training of epoch 30/100:   0%|          | 0/63 [00:00<?, ?batch/s]"
      ]
     },
     "metadata": {},
     "output_type": "display_data"
    },
    {
     "name": "stdout",
     "output_type": "stream",
     "text": [
      "     rec_loss   reg_loss  count\n",
      "0   62.809092  14.654775   12.0\n",
      "1   58.303653  15.071209   10.0\n",
      "2   65.739436  15.034836    5.0\n",
      "3   76.434461  14.716153    8.0\n",
      "4   88.820740  18.152180    8.0\n",
      "5  103.042153  24.241420    7.0\n",
      "6  115.104385  49.415576    9.0\n",
      "7  102.467375  22.217837   12.0\n"
     ]
    },
    {
     "data": {
      "application/vnd.jupyter.widget-view+json": {
       "model_id": "4ff22325ca344e39bba5414835a67d21",
       "version_major": 2,
       "version_minor": 0
      },
      "text/plain": [
       "Eval of epoch 30/100:   0%|          | 0/8 [00:00<?, ?batch/s]"
      ]
     },
     "metadata": {},
     "output_type": "display_data"
    },
    {
     "name": "stderr",
     "output_type": "stream",
     "text": [
      "--------------------------------------------------------------------------\n",
      "--------------------------------------------------------------------------\n",
      "Train loss: 103.6991\n",
      "Train loss: 103.6991\n",
      "Eval loss: 111.1573\n",
      "Eval loss: 111.1573\n",
      "--------------------------------------------------------------------------\n",
      "--------------------------------------------------------------------------\n"
     ]
    },
    {
     "data": {
      "application/vnd.jupyter.widget-view+json": {
       "model_id": "092d7a7163cc44b2aad0cd3a450fe48e",
       "version_major": 2,
       "version_minor": 0
      },
      "text/plain": [
       "Training of epoch 31/100:   0%|          | 0/63 [00:00<?, ?batch/s]"
      ]
     },
     "metadata": {},
     "output_type": "display_data"
    },
    {
     "name": "stdout",
     "output_type": "stream",
     "text": [
      "     rec_loss   reg_loss  count\n",
      "0   63.062740  14.398889    7.0\n",
      "1   60.865442  14.241920    8.0\n",
      "2   66.903475  13.931167    7.0\n",
      "3   75.526162  15.024487   12.0\n",
      "4   88.464571  17.817535    9.0\n",
      "5  102.005330  24.591233    9.0\n",
      "6  114.085966  50.767114    9.0\n",
      "7  103.094910  21.970064   10.0\n"
     ]
    },
    {
     "data": {
      "application/vnd.jupyter.widget-view+json": {
       "model_id": "8ae1a0a9bf8a439393c02e61b2cbf906",
       "version_major": 2,
       "version_minor": 0
      },
      "text/plain": [
       "Eval of epoch 31/100:   0%|          | 0/8 [00:00<?, ?batch/s]"
      ]
     },
     "metadata": {},
     "output_type": "display_data"
    },
    {
     "name": "stderr",
     "output_type": "stream",
     "text": [
      "--------------------------------------------------------------------------\n",
      "--------------------------------------------------------------------------\n",
      "Train loss: 106.9289\n",
      "Train loss: 106.9289\n",
      "Eval loss: 102.1991\n",
      "Eval loss: 102.1991\n",
      "--------------------------------------------------------------------------\n",
      "--------------------------------------------------------------------------\n"
     ]
    },
    {
     "data": {
      "application/vnd.jupyter.widget-view+json": {
       "model_id": "85241aff7da043a0a51a2f2c48d49436",
       "version_major": 2,
       "version_minor": 0
      },
      "text/plain": [
       "Training of epoch 32/100:   0%|          | 0/63 [00:00<?, ?batch/s]"
      ]
     },
     "metadata": {},
     "output_type": "display_data"
    },
    {
     "name": "stdout",
     "output_type": "stream",
     "text": [
      "     rec_loss   reg_loss  count\n",
      "0   62.533778  14.804396    7.0\n",
      "1   59.764181  14.786099   13.0\n",
      "2   66.841481  14.117340   13.0\n",
      "3   76.884616  14.565120    5.0\n",
      "4   88.824881  17.899871    5.0\n",
      "5  103.070228  25.248122    8.0\n",
      "6  114.139016  49.043727   12.0\n",
      "7  101.655902  21.084824    8.0\n"
     ]
    },
    {
     "data": {
      "application/vnd.jupyter.widget-view+json": {
       "model_id": "d852266b9ef94e56a4aca71153fbd03e",
       "version_major": 2,
       "version_minor": 0
      },
      "text/plain": [
       "Eval of epoch 32/100:   0%|          | 0/8 [00:00<?, ?batch/s]"
      ]
     },
     "metadata": {},
     "output_type": "display_data"
    },
    {
     "name": "stderr",
     "output_type": "stream",
     "text": [
      "--------------------------------------------------------------------------\n",
      "--------------------------------------------------------------------------\n",
      "Train loss: 106.3957\n",
      "Train loss: 106.3957\n",
      "Eval loss: 119.6383\n",
      "Eval loss: 119.6383\n",
      "--------------------------------------------------------------------------\n",
      "--------------------------------------------------------------------------\n"
     ]
    },
    {
     "data": {
      "application/vnd.jupyter.widget-view+json": {
       "model_id": "46b5e2c270cf4d8dbd42d674e7ca2527",
       "version_major": 2,
       "version_minor": 0
      },
      "text/plain": [
       "Training of epoch 33/100:   0%|          | 0/63 [00:00<?, ?batch/s]"
      ]
     },
     "metadata": {},
     "output_type": "display_data"
    },
    {
     "name": "stdout",
     "output_type": "stream",
     "text": [
      "     rec_loss   reg_loss  count\n",
      "0   59.129261  13.863540    6.0\n",
      "1   56.678909  15.235835    7.0\n",
      "2   64.295538  14.525090   10.0\n",
      "3   73.667740  15.358003    7.0\n",
      "4   87.505381  18.312708   12.0\n",
      "5  101.717563  25.219906    7.0\n",
      "6  114.198101  49.694861    9.0\n",
      "7  101.979196  19.514539   13.0\n"
     ]
    },
    {
     "data": {
      "application/vnd.jupyter.widget-view+json": {
       "model_id": "ede33f7af66142048350048c28055035",
       "version_major": 2,
       "version_minor": 0
      },
      "text/plain": [
       "Eval of epoch 33/100:   0%|          | 0/8 [00:00<?, ?batch/s]"
      ]
     },
     "metadata": {},
     "output_type": "display_data"
    },
    {
     "name": "stderr",
     "output_type": "stream",
     "text": [
      "--------------------------------------------------------------------------\n",
      "--------------------------------------------------------------------------\n",
      "Train loss: 104.8964\n",
      "Train loss: 104.8964\n",
      "Eval loss: 112.7037\n",
      "Eval loss: 112.7037\n",
      "--------------------------------------------------------------------------\n",
      "--------------------------------------------------------------------------\n"
     ]
    },
    {
     "data": {
      "application/vnd.jupyter.widget-view+json": {
       "model_id": "a999e6e7110b47b9be425e2718dd9da9",
       "version_major": 2,
       "version_minor": 0
      },
      "text/plain": [
       "Training of epoch 34/100:   0%|          | 0/63 [00:00<?, ?batch/s]"
      ]
     },
     "metadata": {},
     "output_type": "display_data"
    },
    {
     "name": "stdout",
     "output_type": "stream",
     "text": [
      "     rec_loss   reg_loss  count\n",
      "0   59.750938  16.987961    1.0\n",
      "1   56.966979  15.509918   11.0\n",
      "2   63.417424  14.870335   10.0\n",
      "3   72.898222  14.918467   13.0\n",
      "4   85.787109  18.099637   12.0\n",
      "5   98.844147  25.332445    9.0\n",
      "6  111.973870  50.618265   10.0\n",
      "7   98.437384  17.045693    5.0\n"
     ]
    },
    {
     "data": {
      "application/vnd.jupyter.widget-view+json": {
       "model_id": "75ca040554e346cbac8abf93957fc21a",
       "version_major": 2,
       "version_minor": 0
      },
      "text/plain": [
       "Eval of epoch 34/100:   0%|          | 0/8 [00:00<?, ?batch/s]"
      ]
     },
     "metadata": {},
     "output_type": "display_data"
    },
    {
     "name": "stderr",
     "output_type": "stream",
     "text": [
      "--------------------------------------------------------------------------\n",
      "--------------------------------------------------------------------------\n",
      "Train loss: 102.6098\n",
      "Train loss: 102.6098\n",
      "Eval loss: 85.5721\n",
      "Eval loss: 85.5721\n",
      "--------------------------------------------------------------------------\n",
      "--------------------------------------------------------------------------\n"
     ]
    },
    {
     "data": {
      "application/vnd.jupyter.widget-view+json": {
       "model_id": "72ee792a545d43ab887d86a245679328",
       "version_major": 2,
       "version_minor": 0
      },
      "text/plain": [
       "Training of epoch 35/100:   0%|          | 0/63 [00:00<?, ?batch/s]"
      ]
     },
     "metadata": {},
     "output_type": "display_data"
    },
    {
     "name": "stdout",
     "output_type": "stream",
     "text": [
      "     rec_loss   reg_loss  count\n",
      "0   62.246199  16.910469    6.0\n",
      "1   58.095459  15.729673   14.0\n",
      "2   64.374544  14.249511    9.0\n",
      "3   73.895666  15.039085    8.0\n",
      "4   86.602224  17.990749    6.0\n",
      "5  101.695234  24.962496    7.0\n",
      "6  116.329856  49.069466   10.0\n",
      "7  100.098853  18.837132   11.0\n"
     ]
    },
    {
     "data": {
      "application/vnd.jupyter.widget-view+json": {
       "model_id": "b2a2430b352e4a42b6484475b19522bf",
       "version_major": 2,
       "version_minor": 0
      },
      "text/plain": [
       "Eval of epoch 35/100:   0%|          | 0/8 [00:00<?, ?batch/s]"
      ]
     },
     "metadata": {},
     "output_type": "display_data"
    },
    {
     "name": "stderr",
     "output_type": "stream",
     "text": [
      "--------------------------------------------------------------------------\n",
      "--------------------------------------------------------------------------\n",
      "Train loss: 106.6581\n",
      "Train loss: 106.6581\n",
      "Eval loss: 118.1704\n",
      "Eval loss: 118.1704\n",
      "--------------------------------------------------------------------------\n",
      "--------------------------------------------------------------------------\n"
     ]
    },
    {
     "data": {
      "application/vnd.jupyter.widget-view+json": {
       "model_id": "14c437e325874110ae920a74f20e959f",
       "version_major": 2,
       "version_minor": 0
      },
      "text/plain": [
       "Training of epoch 36/100:   0%|          | 0/63 [00:00<?, ?batch/s]"
      ]
     },
     "metadata": {},
     "output_type": "display_data"
    },
    {
     "name": "stdout",
     "output_type": "stream",
     "text": [
      "     rec_loss   reg_loss  count\n",
      "0   60.471649  15.088884   13.0\n",
      "1   56.365904  15.211747    6.0\n",
      "2   67.112760  13.694966    9.0\n",
      "3   78.090664  14.342155    6.0\n",
      "4   88.440531  18.316484    4.0\n",
      "5  102.224566  24.612856   11.0\n",
      "6  114.737083  49.060353   11.0\n",
      "7  102.316553  20.683195   11.0\n"
     ]
    },
    {
     "data": {
      "application/vnd.jupyter.widget-view+json": {
       "model_id": "974b476a432d496ba9b486ce3b9383ea",
       "version_major": 2,
       "version_minor": 0
      },
      "text/plain": [
       "Eval of epoch 36/100:   0%|          | 0/8 [00:00<?, ?batch/s]"
      ]
     },
     "metadata": {},
     "output_type": "display_data"
    },
    {
     "name": "stderr",
     "output_type": "stream",
     "text": [
      "--------------------------------------------------------------------------\n",
      "--------------------------------------------------------------------------\n",
      "Train loss: 106.7502\n",
      "Train loss: 106.7502\n",
      "Eval loss: 105.4196\n",
      "Eval loss: 105.4196\n",
      "--------------------------------------------------------------------------\n",
      "--------------------------------------------------------------------------\n"
     ]
    },
    {
     "data": {
      "application/vnd.jupyter.widget-view+json": {
       "model_id": "8acabbdda7aa4b778378539410a1dfeb",
       "version_major": 2,
       "version_minor": 0
      },
      "text/plain": [
       "Training of epoch 37/100:   0%|          | 0/63 [00:00<?, ?batch/s]"
      ]
     },
     "metadata": {},
     "output_type": "display_data"
    },
    {
     "name": "stdout",
     "output_type": "stream",
     "text": [
      "     rec_loss   reg_loss  count\n",
      "0   61.448743  15.373110    9.0\n",
      "1   57.543862  15.623197    4.0\n",
      "2   63.773399  14.234513   16.0\n",
      "3   71.971434  15.334658    6.0\n",
      "4   87.832085  18.106389    7.0\n",
      "5  100.616849  24.955747   10.0\n",
      "6  113.379308  49.927227    6.0\n",
      "7   98.184527  17.584260   13.0\n"
     ]
    },
    {
     "data": {
      "application/vnd.jupyter.widget-view+json": {
       "model_id": "20f9a310a9744bbebbc7605a03c444e6",
       "version_major": 2,
       "version_minor": 0
      },
      "text/plain": [
       "Eval of epoch 37/100:   0%|          | 0/8 [00:00<?, ?batch/s]"
      ]
     },
     "metadata": {},
     "output_type": "display_data"
    },
    {
     "name": "stderr",
     "output_type": "stream",
     "text": [
      "--------------------------------------------------------------------------\n",
      "--------------------------------------------------------------------------\n",
      "Train loss: 101.5048\n",
      "Train loss: 101.5048\n",
      "Eval loss: 92.1499\n",
      "Eval loss: 92.1499\n",
      "--------------------------------------------------------------------------\n",
      "--------------------------------------------------------------------------\n"
     ]
    },
    {
     "data": {
      "application/vnd.jupyter.widget-view+json": {
       "model_id": "8ec60352a6474bf591b808d9a10189ef",
       "version_major": 2,
       "version_minor": 0
      },
      "text/plain": [
       "Training of epoch 38/100:   0%|          | 0/63 [00:00<?, ?batch/s]"
      ]
     },
     "metadata": {},
     "output_type": "display_data"
    },
    {
     "name": "stdout",
     "output_type": "stream",
     "text": [
      "     rec_loss   reg_loss  count\n",
      "0   60.220269  15.199617   11.0\n",
      "1   56.171587  15.740881    8.0\n",
      "2   64.833547  14.099442    3.0\n",
      "3   74.341296  15.072431   10.0\n",
      "4   88.218787  18.241538    7.0\n",
      "5   99.749860  25.101555    8.0\n",
      "6  112.468214  49.406225    9.0\n",
      "7   96.763807  16.728810   15.0\n"
     ]
    },
    {
     "data": {
      "application/vnd.jupyter.widget-view+json": {
       "model_id": "259dcf26e16b48cd85fd7c4ad96a1315",
       "version_major": 2,
       "version_minor": 0
      },
      "text/plain": [
       "Eval of epoch 38/100:   0%|          | 0/8 [00:00<?, ?batch/s]"
      ]
     },
     "metadata": {},
     "output_type": "display_data"
    },
    {
     "name": "stderr",
     "output_type": "stream",
     "text": [
      "--------------------------------------------------------------------------\n",
      "--------------------------------------------------------------------------\n",
      "Train loss: 106.3801\n",
      "Train loss: 106.3801\n",
      "Eval loss: 112.1254\n",
      "Eval loss: 112.1254\n",
      "--------------------------------------------------------------------------\n",
      "--------------------------------------------------------------------------\n"
     ]
    },
    {
     "data": {
      "application/vnd.jupyter.widget-view+json": {
       "model_id": "23627474753f40b6ac8063cccb76f3b2",
       "version_major": 2,
       "version_minor": 0
      },
      "text/plain": [
       "Training of epoch 39/100:   0%|          | 0/63 [00:00<?, ?batch/s]"
      ]
     },
     "metadata": {},
     "output_type": "display_data"
    },
    {
     "name": "stdout",
     "output_type": "stream",
     "text": [
      "     rec_loss   reg_loss  count\n",
      "0   58.139068  16.069150    7.0\n",
      "1   55.068639  15.457916   12.0\n",
      "2   63.022186  14.174808    9.0\n",
      "3   72.831677  14.972242    9.0\n",
      "4   86.282992  18.244359   12.0\n",
      "5  101.120471  24.980509    8.0\n",
      "6  113.060743  49.416289    4.0\n",
      "7   95.932807  16.121069   10.0\n"
     ]
    },
    {
     "data": {
      "application/vnd.jupyter.widget-view+json": {
       "model_id": "121e2f8a070b4d26954435b6ea77046c",
       "version_major": 2,
       "version_minor": 0
      },
      "text/plain": [
       "Eval of epoch 39/100:   0%|          | 0/8 [00:00<?, ?batch/s]"
      ]
     },
     "metadata": {},
     "output_type": "display_data"
    },
    {
     "name": "stderr",
     "output_type": "stream",
     "text": [
      "--------------------------------------------------------------------------\n",
      "--------------------------------------------------------------------------\n",
      "Train loss: 95.0375\n",
      "Train loss: 95.0375\n",
      "Eval loss: 109.2503\n",
      "Eval loss: 109.2503\n",
      "--------------------------------------------------------------------------\n",
      "--------------------------------------------------------------------------\n"
     ]
    },
    {
     "data": {
      "application/vnd.jupyter.widget-view+json": {
       "model_id": "7f02a4a4c7f04e7abe9ba26e6475a08c",
       "version_major": 2,
       "version_minor": 0
      },
      "text/plain": [
       "Training of epoch 40/100:   0%|          | 0/63 [00:00<?, ?batch/s]"
      ]
     },
     "metadata": {},
     "output_type": "display_data"
    },
    {
     "name": "stdout",
     "output_type": "stream",
     "text": [
      "     rec_loss   reg_loss  count\n",
      "0   59.812335  15.314950   12.0\n",
      "1   55.931540  15.285658    8.0\n",
      "2   62.681408  14.173950   10.0\n",
      "3   74.158364  15.017660   10.0\n",
      "4   89.090784  18.236707    7.0\n",
      "5  100.078387  24.812483    5.0\n",
      "6  113.495966  50.180493    7.0\n",
      "7   98.501215  16.589775   12.0\n"
     ]
    },
    {
     "data": {
      "application/vnd.jupyter.widget-view+json": {
       "model_id": "63985dbd1b374b17943f1ec5254addfe",
       "version_major": 2,
       "version_minor": 0
      },
      "text/plain": [
       "Eval of epoch 40/100:   0%|          | 0/8 [00:00<?, ?batch/s]"
      ]
     },
     "metadata": {},
     "output_type": "display_data"
    },
    {
     "name": "stderr",
     "output_type": "stream",
     "text": [
      "--------------------------------------------------------------------------\n",
      "--------------------------------------------------------------------------\n",
      "Train loss: 97.7802\n",
      "Train loss: 97.7802\n",
      "Eval loss: 93.8728\n",
      "Eval loss: 93.8728\n",
      "--------------------------------------------------------------------------\n",
      "--------------------------------------------------------------------------\n"
     ]
    },
    {
     "data": {
      "application/vnd.jupyter.widget-view+json": {
       "model_id": "fa4e9c8645b74f29986cb384a6423afd",
       "version_major": 2,
       "version_minor": 0
      },
      "text/plain": [
       "Training of epoch 41/100:   0%|          | 0/63 [00:00<?, ?batch/s]"
      ]
     },
     "metadata": {},
     "output_type": "display_data"
    },
    {
     "name": "stdout",
     "output_type": "stream",
     "text": [
      "     rec_loss   reg_loss  count\n",
      "0   60.271825  15.116625   10.0\n",
      "1   56.126455  15.593536   10.0\n",
      "2   62.483524  13.961708    7.0\n",
      "3   73.515974  14.935731    9.0\n",
      "4   88.095906  18.240315    8.0\n",
      "5  101.060865  25.261118    9.0\n",
      "6  115.743288  50.644023    4.0\n",
      "7  101.602209  19.696486   14.0\n"
     ]
    },
    {
     "data": {
      "application/vnd.jupyter.widget-view+json": {
       "model_id": "2541700f06624b4bac295ecfac3e954b",
       "version_major": 2,
       "version_minor": 0
      },
      "text/plain": [
       "Eval of epoch 41/100:   0%|          | 0/8 [00:00<?, ?batch/s]"
      ]
     },
     "metadata": {},
     "output_type": "display_data"
    },
    {
     "name": "stderr",
     "output_type": "stream",
     "text": [
      "--------------------------------------------------------------------------\n",
      "--------------------------------------------------------------------------\n",
      "Train loss: 101.6286\n",
      "Train loss: 101.6286\n",
      "Eval loss: 97.8127\n",
      "Eval loss: 97.8127\n",
      "--------------------------------------------------------------------------\n",
      "--------------------------------------------------------------------------\n"
     ]
    },
    {
     "data": {
      "application/vnd.jupyter.widget-view+json": {
       "model_id": "d6f3db41392549f181142fe7f58e7b20",
       "version_major": 2,
       "version_minor": 0
      },
      "text/plain": [
       "Training of epoch 42/100:   0%|          | 0/63 [00:00<?, ?batch/s]"
      ]
     },
     "metadata": {},
     "output_type": "display_data"
    },
    {
     "name": "stdout",
     "output_type": "stream",
     "text": [
      "     rec_loss   reg_loss  count\n",
      "0   57.574984  16.271139    6.0\n",
      "1   53.450872  15.773802   12.0\n",
      "2   61.670742  14.271294   10.0\n",
      "3   73.479927  14.915785    8.0\n",
      "4   84.714382  18.200746    7.0\n",
      "5   99.800056  25.170370    8.0\n",
      "6  110.583788  49.565264   10.0\n",
      "7   97.602262  20.145781   10.0\n"
     ]
    },
    {
     "data": {
      "application/vnd.jupyter.widget-view+json": {
       "model_id": "a26a685b71314928b2368e2098ebcacc",
       "version_major": 2,
       "version_minor": 0
      },
      "text/plain": [
       "Eval of epoch 42/100:   0%|          | 0/8 [00:00<?, ?batch/s]"
      ]
     },
     "metadata": {},
     "output_type": "display_data"
    },
    {
     "name": "stderr",
     "output_type": "stream",
     "text": [
      "--------------------------------------------------------------------------\n",
      "--------------------------------------------------------------------------\n",
      "Train loss: 102.492\n",
      "Train loss: 102.492\n",
      "Eval loss: 84.9015\n",
      "Eval loss: 84.9015\n",
      "--------------------------------------------------------------------------\n",
      "--------------------------------------------------------------------------\n"
     ]
    },
    {
     "data": {
      "application/vnd.jupyter.widget-view+json": {
       "model_id": "37d7d442fc4744b8ad69106ff5792fda",
       "version_major": 2,
       "version_minor": 0
      },
      "text/plain": [
       "Training of epoch 43/100:   0%|          | 0/63 [00:00<?, ?batch/s]"
      ]
     },
     "metadata": {},
     "output_type": "display_data"
    },
    {
     "name": "stdout",
     "output_type": "stream",
     "text": [
      "     rec_loss   reg_loss  count\n",
      "0   58.546128  16.655084    7.0\n",
      "1   53.376290  15.407225   13.0\n",
      "2   61.984337  14.346996    8.0\n",
      "3   71.670905  15.512584    7.0\n",
      "4   85.326263  18.405798    7.0\n",
      "5  100.204759  24.747709    8.0\n",
      "6  111.702979  49.532753   10.0\n",
      "7   91.913734  15.962658   11.0\n"
     ]
    },
    {
     "data": {
      "application/vnd.jupyter.widget-view+json": {
       "model_id": "218b1885fc7e4425abff0ea6fe32b3d3",
       "version_major": 2,
       "version_minor": 0
      },
      "text/plain": [
       "Eval of epoch 43/100:   0%|          | 0/8 [00:00<?, ?batch/s]"
      ]
     },
     "metadata": {},
     "output_type": "display_data"
    },
    {
     "name": "stderr",
     "output_type": "stream",
     "text": [
      "--------------------------------------------------------------------------\n",
      "--------------------------------------------------------------------------\n",
      "Train loss: 102.9692\n",
      "Train loss: 102.9692\n",
      "Eval loss: 105.7913\n",
      "Eval loss: 105.7913\n",
      "--------------------------------------------------------------------------\n",
      "--------------------------------------------------------------------------\n"
     ]
    },
    {
     "data": {
      "application/vnd.jupyter.widget-view+json": {
       "model_id": "ed845db141fb4debabc6145778e8610b",
       "version_major": 2,
       "version_minor": 0
      },
      "text/plain": [
       "Training of epoch 44/100:   0%|          | 0/63 [00:00<?, ?batch/s]"
      ]
     },
     "metadata": {},
     "output_type": "display_data"
    },
    {
     "name": "stdout",
     "output_type": "stream",
     "text": [
      "     rec_loss   reg_loss  count\n",
      "0   57.745680  16.823829    9.0\n",
      "1   54.908017  16.404412    3.0\n",
      "2   61.354733  14.447957    8.0\n",
      "3   72.313063  15.168273   10.0\n",
      "4   84.725677  18.369034   12.0\n",
      "5  101.515924  25.375295    4.0\n",
      "6  111.716318  49.864986   11.0\n",
      "7   94.179993  15.090530   14.0\n"
     ]
    },
    {
     "data": {
      "application/vnd.jupyter.widget-view+json": {
       "model_id": "b5866acb6d1a4252b740c7ec97159361",
       "version_major": 2,
       "version_minor": 0
      },
      "text/plain": [
       "Eval of epoch 44/100:   0%|          | 0/8 [00:00<?, ?batch/s]"
      ]
     },
     "metadata": {},
     "output_type": "display_data"
    },
    {
     "name": "stderr",
     "output_type": "stream",
     "text": [
      "--------------------------------------------------------------------------\n",
      "--------------------------------------------------------------------------\n",
      "Train loss: 104.3151\n",
      "Train loss: 104.3151\n",
      "Eval loss: 109.5002\n",
      "Eval loss: 109.5002\n",
      "--------------------------------------------------------------------------\n",
      "--------------------------------------------------------------------------\n"
     ]
    },
    {
     "data": {
      "application/vnd.jupyter.widget-view+json": {
       "model_id": "c23753a845e24575831c3c44c3d88b3e",
       "version_major": 2,
       "version_minor": 0
      },
      "text/plain": [
       "Training of epoch 45/100:   0%|          | 0/63 [00:00<?, ?batch/s]"
      ]
     },
     "metadata": {},
     "output_type": "display_data"
    },
    {
     "name": "stdout",
     "output_type": "stream",
     "text": [
      "     rec_loss   reg_loss  count\n",
      "0   56.867319  15.873141    5.0\n",
      "1   53.108255  15.398630   12.0\n",
      "2   61.556520  14.612209    3.0\n",
      "3   70.848048  15.181923   10.0\n",
      "4   84.105713  18.122198    9.0\n",
      "5  100.178762  24.799236   15.0\n",
      "6  110.228271  49.585041    9.0\n",
      "7   94.675477  14.870403    8.0\n"
     ]
    },
    {
     "data": {
      "application/vnd.jupyter.widget-view+json": {
       "model_id": "832d2244cdb34eb4866aa1e350e55c58",
       "version_major": 2,
       "version_minor": 0
      },
      "text/plain": [
       "Eval of epoch 45/100:   0%|          | 0/8 [00:00<?, ?batch/s]"
      ]
     },
     "metadata": {},
     "output_type": "display_data"
    },
    {
     "name": "stderr",
     "output_type": "stream",
     "text": [
      "--------------------------------------------------------------------------\n",
      "--------------------------------------------------------------------------\n",
      "Train loss: 103.3015\n",
      "Train loss: 103.3015\n",
      "Eval loss: 99.6934\n",
      "Eval loss: 99.6934\n",
      "--------------------------------------------------------------------------\n",
      "--------------------------------------------------------------------------\n"
     ]
    },
    {
     "data": {
      "application/vnd.jupyter.widget-view+json": {
       "model_id": "7482b0b51ec34bb7af45a5a9be6f1f13",
       "version_major": 2,
       "version_minor": 0
      },
      "text/plain": [
       "Training of epoch 46/100:   0%|          | 0/63 [00:00<?, ?batch/s]"
      ]
     },
     "metadata": {},
     "output_type": "display_data"
    },
    {
     "name": "stdout",
     "output_type": "stream",
     "text": [
      "     rec_loss   reg_loss  count\n",
      "0   56.398278  15.797233    9.0\n",
      "1   53.495256  15.920895    6.0\n",
      "2   59.511380  14.615946    8.0\n",
      "3   71.432968  14.944034    6.0\n",
      "4   84.422828  18.281399    9.0\n",
      "5   98.795976  24.958213    7.0\n",
      "6  110.280869  49.490943   12.0\n",
      "7   90.220893  15.041818   14.0\n"
     ]
    },
    {
     "data": {
      "application/vnd.jupyter.widget-view+json": {
       "model_id": "bf6de8ed3c0f4d4d95cb4bed4d5fadcc",
       "version_major": 2,
       "version_minor": 0
      },
      "text/plain": [
       "Eval of epoch 46/100:   0%|          | 0/8 [00:00<?, ?batch/s]"
      ]
     },
     "metadata": {},
     "output_type": "display_data"
    },
    {
     "name": "stderr",
     "output_type": "stream",
     "text": [
      "--------------------------------------------------------------------------\n",
      "--------------------------------------------------------------------------\n",
      "Train loss: 104.1515\n",
      "Train loss: 104.1515\n",
      "Eval loss: 106.5669\n",
      "Eval loss: 106.5669\n",
      "--------------------------------------------------------------------------\n",
      "--------------------------------------------------------------------------\n"
     ]
    },
    {
     "data": {
      "application/vnd.jupyter.widget-view+json": {
       "model_id": "98b03ba8b60c4aa2b54eeab2a7a9160e",
       "version_major": 2,
       "version_minor": 0
      },
      "text/plain": [
       "Training of epoch 47/100:   0%|          | 0/63 [00:00<?, ?batch/s]"
      ]
     },
     "metadata": {},
     "output_type": "display_data"
    },
    {
     "name": "stdout",
     "output_type": "stream",
     "text": [
      "     rec_loss   reg_loss  count\n",
      "0   56.935618  15.755923   10.0\n",
      "1   53.449041  15.591613    5.0\n",
      "2   61.031177  14.491651   11.0\n",
      "3   72.002595  14.996309   11.0\n",
      "4   83.827600  18.471892    4.0\n",
      "5   98.025719  24.981006   10.0\n",
      "6  111.734493  49.832487   12.0\n",
      "7   95.798786  15.983503    8.0\n"
     ]
    },
    {
     "data": {
      "application/vnd.jupyter.widget-view+json": {
       "model_id": "d35a1d0225c04cf3aa8f13757ba337bd",
       "version_major": 2,
       "version_minor": 0
      },
      "text/plain": [
       "Eval of epoch 47/100:   0%|          | 0/8 [00:00<?, ?batch/s]"
      ]
     },
     "metadata": {},
     "output_type": "display_data"
    },
    {
     "name": "stderr",
     "output_type": "stream",
     "text": [
      "--------------------------------------------------------------------------\n",
      "--------------------------------------------------------------------------\n",
      "Train loss: 102.8516\n",
      "Train loss: 102.8516\n",
      "Eval loss: 140.3934\n",
      "Eval loss: 140.3934\n",
      "--------------------------------------------------------------------------\n",
      "--------------------------------------------------------------------------\n"
     ]
    },
    {
     "data": {
      "application/vnd.jupyter.widget-view+json": {
       "model_id": "da15e4956b324aaa981b0501843bc0c6",
       "version_major": 2,
       "version_minor": 0
      },
      "text/plain": [
       "Training of epoch 48/100:   0%|          | 0/63 [00:00<?, ?batch/s]"
      ]
     },
     "metadata": {},
     "output_type": "display_data"
    },
    {
     "name": "stdout",
     "output_type": "stream",
     "text": [
      "     rec_loss   reg_loss  count\n",
      "0   56.239047  14.960566   10.0\n",
      "1   51.271824  15.326266    9.0\n",
      "2   59.119297  14.466432    8.0\n",
      "3   70.957997  15.003897    7.0\n",
      "4   84.714059  18.022419    6.0\n",
      "5  100.026916  24.617135    9.0\n",
      "6  112.277946  48.659440   15.0\n",
      "7  103.841028  17.095128    7.0\n"
     ]
    },
    {
     "data": {
      "application/vnd.jupyter.widget-view+json": {
       "model_id": "73514b9fe8eb418f896a082aab76cc82",
       "version_major": 2,
       "version_minor": 0
      },
      "text/plain": [
       "Eval of epoch 48/100:   0%|          | 0/8 [00:00<?, ?batch/s]"
      ]
     },
     "metadata": {},
     "output_type": "display_data"
    },
    {
     "name": "stderr",
     "output_type": "stream",
     "text": [
      "--------------------------------------------------------------------------\n",
      "--------------------------------------------------------------------------\n",
      "Train loss: 101.2298\n",
      "Train loss: 101.2298\n",
      "Eval loss: 129.0837\n",
      "Eval loss: 129.0837\n",
      "--------------------------------------------------------------------------\n",
      "--------------------------------------------------------------------------\n"
     ]
    },
    {
     "data": {
      "application/vnd.jupyter.widget-view+json": {
       "model_id": "38c9bb5807a0450495b705108bdefa59",
       "version_major": 2,
       "version_minor": 0
      },
      "text/plain": [
       "Training of epoch 49/100:   0%|          | 0/63 [00:00<?, ?batch/s]"
      ]
     },
     "metadata": {},
     "output_type": "display_data"
    },
    {
     "name": "stdout",
     "output_type": "stream",
     "text": [
      "     rec_loss   reg_loss  count\n",
      "0   61.126125  16.533518    7.0\n",
      "1   58.666475  15.348946    9.0\n",
      "2   61.555451  14.429566    5.0\n",
      "3   76.297535  14.890788    8.0\n",
      "4   89.346755  18.365013    8.0\n",
      "5  102.098904  24.946259   10.0\n",
      "6  111.948357  49.456722    9.0\n",
      "7  104.453935  20.002168   15.0\n"
     ]
    },
    {
     "data": {
      "application/vnd.jupyter.widget-view+json": {
       "model_id": "ed5a1275e73d4c2ebfc74db88bb1f4b9",
       "version_major": 2,
       "version_minor": 0
      },
      "text/plain": [
       "Eval of epoch 49/100:   0%|          | 0/8 [00:00<?, ?batch/s]"
      ]
     },
     "metadata": {},
     "output_type": "display_data"
    },
    {
     "name": "stderr",
     "output_type": "stream",
     "text": [
      "--------------------------------------------------------------------------\n",
      "--------------------------------------------------------------------------\n",
      "Train loss: 106.9548\n",
      "Train loss: 106.9548\n",
      "Eval loss: 109.5144\n",
      "Eval loss: 109.5144\n",
      "--------------------------------------------------------------------------\n",
      "--------------------------------------------------------------------------\n"
     ]
    },
    {
     "data": {
      "application/vnd.jupyter.widget-view+json": {
       "model_id": "5e5d8ab0655a48b588ea59a063881398",
       "version_major": 2,
       "version_minor": 0
      },
      "text/plain": [
       "Training of epoch 50/100:   0%|          | 0/63 [00:00<?, ?batch/s]"
      ]
     },
     "metadata": {},
     "output_type": "display_data"
    },
    {
     "name": "stdout",
     "output_type": "stream",
     "text": [
      "     rec_loss   reg_loss  count\n",
      "0   56.419735  15.634806   12.0\n",
      "1   53.087222  15.476654    6.0\n",
      "2   62.259962  14.328810   13.0\n",
      "3   72.887034  15.011625    6.0\n",
      "4   86.974779  18.395919    4.0\n",
      "5  100.346822  24.653287    9.0\n",
      "6  112.373877  48.735850   12.0\n",
      "7  100.331413  16.194301    9.0\n"
     ]
    },
    {
     "data": {
      "application/vnd.jupyter.widget-view+json": {
       "model_id": "8fa6e85feac9497c82a1ab7eb7f1fa52",
       "version_major": 2,
       "version_minor": 0
      },
      "text/plain": [
       "Eval of epoch 50/100:   0%|          | 0/8 [00:00<?, ?batch/s]"
      ]
     },
     "metadata": {},
     "output_type": "display_data"
    },
    {
     "name": "stderr",
     "output_type": "stream",
     "text": [
      "--------------------------------------------------------------------------\n",
      "--------------------------------------------------------------------------\n",
      "Train loss: 102.4048\n",
      "Train loss: 102.4048\n",
      "Eval loss: 102.0839\n",
      "Eval loss: 102.0839\n",
      "--------------------------------------------------------------------------\n",
      "--------------------------------------------------------------------------\n"
     ]
    },
    {
     "data": {
      "application/vnd.jupyter.widget-view+json": {
       "model_id": "7da6435dbdb948adbe6b4c8948ac89e8",
       "version_major": 2,
       "version_minor": 0
      },
      "text/plain": [
       "Training of epoch 51/100:   0%|          | 0/63 [00:00<?, ?batch/s]"
      ]
     },
     "metadata": {},
     "output_type": "display_data"
    },
    {
     "name": "stdout",
     "output_type": "stream",
     "text": [
      "     rec_loss   reg_loss  count\n",
      "0   50.782556  15.471091    8.0\n",
      "1   49.345134  15.091164    8.0\n",
      "2   57.683227  14.194784   13.0\n",
      "3   68.821115  14.914713    8.0\n",
      "4   82.526645  18.271441    9.0\n",
      "5   98.732334  24.446512   11.0\n",
      "6  110.886068  48.589206    7.0\n",
      "7   91.024848  15.545095    7.0\n"
     ]
    },
    {
     "data": {
      "application/vnd.jupyter.widget-view+json": {
       "model_id": "ff740cc13f764b048f38e9762b9b7ea9",
       "version_major": 2,
       "version_minor": 0
      },
      "text/plain": [
       "Eval of epoch 51/100:   0%|          | 0/8 [00:00<?, ?batch/s]"
      ]
     },
     "metadata": {},
     "output_type": "display_data"
    },
    {
     "name": "stderr",
     "output_type": "stream",
     "text": [
      "--------------------------------------------------------------------------\n",
      "--------------------------------------------------------------------------\n",
      "Train loss: 94.5653\n",
      "Train loss: 94.5653\n",
      "Eval loss: 103.1482\n",
      "Eval loss: 103.1482\n",
      "--------------------------------------------------------------------------\n",
      "--------------------------------------------------------------------------\n"
     ]
    },
    {
     "data": {
      "application/vnd.jupyter.widget-view+json": {
       "model_id": "ab3ff93e9d6c4b5f8865e5f0a913ccf2",
       "version_major": 2,
       "version_minor": 0
      },
      "text/plain": [
       "Training of epoch 52/100:   0%|          | 0/63 [00:00<?, ?batch/s]"
      ]
     },
     "metadata": {},
     "output_type": "display_data"
    },
    {
     "name": "stdout",
     "output_type": "stream",
     "text": [
      "     rec_loss   reg_loss  count\n",
      "0   50.480843  16.547230   14.0\n",
      "1   47.531216  16.258854    7.0\n",
      "2   56.635730  14.793324    9.0\n",
      "3   68.017972  15.054177   10.0\n",
      "4   81.518780  18.456258    6.0\n",
      "5   98.386244  24.798883    6.0\n",
      "6  111.420620  48.893985    6.0\n",
      "7   88.704672  12.950687   13.0\n"
     ]
    },
    {
     "data": {
      "application/vnd.jupyter.widget-view+json": {
       "model_id": "8df53be9a91340bd867dbe14d0381d4d",
       "version_major": 2,
       "version_minor": 0
      },
      "text/plain": [
       "Eval of epoch 52/100:   0%|          | 0/8 [00:00<?, ?batch/s]"
      ]
     },
     "metadata": {},
     "output_type": "display_data"
    },
    {
     "name": "stderr",
     "output_type": "stream",
     "text": [
      "--------------------------------------------------------------------------\n",
      "--------------------------------------------------------------------------\n",
      "Train loss: 89.7728\n",
      "Train loss: 89.7728\n",
      "Eval loss: 86.9746\n",
      "Eval loss: 86.9746\n",
      "--------------------------------------------------------------------------\n",
      "--------------------------------------------------------------------------\n"
     ]
    },
    {
     "data": {
      "application/vnd.jupyter.widget-view+json": {
       "model_id": "707a410bccc246d184a98bb498e0e25d",
       "version_major": 2,
       "version_minor": 0
      },
      "text/plain": [
       "Training of epoch 53/100:   0%|          | 0/63 [00:00<?, ?batch/s]"
      ]
     },
     "metadata": {},
     "output_type": "display_data"
    },
    {
     "name": "stdout",
     "output_type": "stream",
     "text": [
      "     rec_loss   reg_loss  count\n",
      "0   50.835567  15.847838    7.0\n",
      "1   48.659634  16.294066   12.0\n",
      "2   56.701864  14.358001   11.0\n",
      "3   67.536831  15.036383    7.0\n",
      "4   82.298581  18.286551    5.0\n",
      "5   97.205573  24.645863   13.0\n",
      "6  111.299218  48.667570    8.0\n",
      "7   86.873280  11.232607    8.0\n"
     ]
    },
    {
     "data": {
      "application/vnd.jupyter.widget-view+json": {
       "model_id": "d9c32885ae774d5691c90835bcdfc27a",
       "version_major": 2,
       "version_minor": 0
      },
      "text/plain": [
       "Eval of epoch 53/100:   0%|          | 0/8 [00:00<?, ?batch/s]"
      ]
     },
     "metadata": {},
     "output_type": "display_data"
    },
    {
     "name": "stderr",
     "output_type": "stream",
     "text": [
      "--------------------------------------------------------------------------\n",
      "--------------------------------------------------------------------------\n",
      "Train loss: 96.2171\n",
      "Train loss: 96.2171\n",
      "Eval loss: 92.094\n",
      "Eval loss: 92.094\n",
      "--------------------------------------------------------------------------\n",
      "--------------------------------------------------------------------------\n"
     ]
    },
    {
     "data": {
      "application/vnd.jupyter.widget-view+json": {
       "model_id": "a67c73e0e3044ebe8d29dd72d9254ef4",
       "version_major": 2,
       "version_minor": 0
      },
      "text/plain": [
       "Training of epoch 54/100:   0%|          | 0/63 [00:00<?, ?batch/s]"
      ]
     },
     "metadata": {},
     "output_type": "display_data"
    },
    {
     "name": "stdout",
     "output_type": "stream",
     "text": [
      "     rec_loss   reg_loss  count\n",
      "0   49.410407  15.304829   10.0\n",
      "1   48.640681  15.614781    9.0\n",
      "2   56.288463  14.306300    8.0\n",
      "3   68.621419  15.038808   12.0\n",
      "4   82.398230  18.305129    7.0\n",
      "5   98.688066  24.781983    8.0\n",
      "6  110.703285  48.765174   12.0\n",
      "7   93.414195  13.589358    5.0\n"
     ]
    },
    {
     "data": {
      "application/vnd.jupyter.widget-view+json": {
       "model_id": "141dcd98e32f406fbd9cadcd50a7263e",
       "version_major": 2,
       "version_minor": 0
      },
      "text/plain": [
       "Eval of epoch 54/100:   0%|          | 0/8 [00:00<?, ?batch/s]"
      ]
     },
     "metadata": {},
     "output_type": "display_data"
    },
    {
     "name": "stderr",
     "output_type": "stream",
     "text": [
      "--------------------------------------------------------------------------\n",
      "--------------------------------------------------------------------------\n",
      "Train loss: 98.3921\n",
      "Train loss: 98.3921\n",
      "Eval loss: 91.0558\n",
      "Eval loss: 91.0558\n",
      "--------------------------------------------------------------------------\n",
      "--------------------------------------------------------------------------\n"
     ]
    },
    {
     "data": {
      "application/vnd.jupyter.widget-view+json": {
       "model_id": "078e1644b2dc4b658a12f32ce4b678a8",
       "version_major": 2,
       "version_minor": 0
      },
      "text/plain": [
       "Training of epoch 55/100:   0%|          | 0/63 [00:00<?, ?batch/s]"
      ]
     },
     "metadata": {},
     "output_type": "display_data"
    },
    {
     "name": "stdout",
     "output_type": "stream",
     "text": [
      "     rec_loss   reg_loss  count\n",
      "0   50.048525  16.614072    9.0\n",
      "1   47.812686  16.312763   15.0\n",
      "2   57.280104  14.734860   10.0\n",
      "3   67.696972  15.223070    6.0\n",
      "4   81.349563  18.296081    9.0\n",
      "5   97.518578  25.091203    8.0\n",
      "6  111.289152  49.053533    4.0\n",
      "7   87.273890  11.085626   10.0\n"
     ]
    },
    {
     "data": {
      "application/vnd.jupyter.widget-view+json": {
       "model_id": "5fd19c5351fe45aeb4d25d94589627cb",
       "version_major": 2,
       "version_minor": 0
      },
      "text/plain": [
       "Eval of epoch 55/100:   0%|          | 0/8 [00:00<?, ?batch/s]"
      ]
     },
     "metadata": {},
     "output_type": "display_data"
    },
    {
     "name": "stderr",
     "output_type": "stream",
     "text": [
      "--------------------------------------------------------------------------\n",
      "--------------------------------------------------------------------------\n",
      "Train loss: 88.1543\n",
      "Train loss: 88.1543\n",
      "Eval loss: 92.8936\n",
      "Eval loss: 92.8936\n",
      "--------------------------------------------------------------------------\n",
      "--------------------------------------------------------------------------\n"
     ]
    },
    {
     "data": {
      "application/vnd.jupyter.widget-view+json": {
       "model_id": "c692af0f248848fabb621707eb5e0934",
       "version_major": 2,
       "version_minor": 0
      },
      "text/plain": [
       "Training of epoch 56/100:   0%|          | 0/63 [00:00<?, ?batch/s]"
      ]
     },
     "metadata": {},
     "output_type": "display_data"
    },
    {
     "name": "stdout",
     "output_type": "stream",
     "text": [
      "     rec_loss   reg_loss  count\n",
      "0   49.747087  16.105661   11.0\n",
      "1   46.808645  16.161803    6.0\n",
      "2   56.530054  14.378397    6.0\n",
      "3   68.519955  15.029459   10.0\n",
      "4   81.893915  18.450890    9.0\n",
      "5   98.532245  24.738620   13.0\n",
      "6  111.081768  48.285681    8.0\n",
      "7   87.742305  12.252612    8.0\n"
     ]
    },
    {
     "data": {
      "application/vnd.jupyter.widget-view+json": {
       "model_id": "3361877508e341ee99f28cb146cc011d",
       "version_major": 2,
       "version_minor": 0
      },
      "text/plain": [
       "Eval of epoch 56/100:   0%|          | 0/8 [00:00<?, ?batch/s]"
      ]
     },
     "metadata": {},
     "output_type": "display_data"
    },
    {
     "name": "stderr",
     "output_type": "stream",
     "text": [
      "--------------------------------------------------------------------------\n",
      "--------------------------------------------------------------------------\n",
      "Train loss: 98.421\n",
      "Train loss: 98.421\n",
      "Eval loss: 95.6129\n",
      "Eval loss: 95.6129\n",
      "--------------------------------------------------------------------------\n",
      "--------------------------------------------------------------------------\n"
     ]
    },
    {
     "data": {
      "application/vnd.jupyter.widget-view+json": {
       "model_id": "02d06a3045274c08bba8362cf65eee3e",
       "version_major": 2,
       "version_minor": 0
      },
      "text/plain": [
       "Training of epoch 57/100:   0%|          | 0/63 [00:00<?, ?batch/s]"
      ]
     },
     "metadata": {},
     "output_type": "display_data"
    },
    {
     "name": "stdout",
     "output_type": "stream",
     "text": [
      "     rec_loss   reg_loss  count\n",
      "0   49.591094  16.341941    8.0\n",
      "1   46.730470  16.295961   12.0\n",
      "2   56.180348  14.413456   12.0\n",
      "3   67.677445  15.153256   11.0\n",
      "4   81.087911  18.607113    7.0\n",
      "5   98.520485  24.871831    5.0\n",
      "6  110.750137  49.053102    8.0\n",
      "7   85.951890  10.702510    8.0\n"
     ]
    },
    {
     "data": {
      "application/vnd.jupyter.widget-view+json": {
       "model_id": "77fa3cf0ecee43a682b931edcb64c930",
       "version_major": 2,
       "version_minor": 0
      },
      "text/plain": [
       "Eval of epoch 57/100:   0%|          | 0/8 [00:00<?, ?batch/s]"
      ]
     },
     "metadata": {},
     "output_type": "display_data"
    },
    {
     "name": "stderr",
     "output_type": "stream",
     "text": [
      "--------------------------------------------------------------------------\n",
      "--------------------------------------------------------------------------\n",
      "Train loss: 89.5814\n",
      "Train loss: 89.5814\n",
      "Eval loss: 86.214\n",
      "Eval loss: 86.214\n",
      "--------------------------------------------------------------------------\n",
      "--------------------------------------------------------------------------\n"
     ]
    },
    {
     "data": {
      "application/vnd.jupyter.widget-view+json": {
       "model_id": "ebb11e0ff74741169a0ffaacba24b2fd",
       "version_major": 2,
       "version_minor": 0
      },
      "text/plain": [
       "Training of epoch 58/100:   0%|          | 0/63 [00:00<?, ?batch/s]"
      ]
     },
     "metadata": {},
     "output_type": "display_data"
    },
    {
     "name": "stdout",
     "output_type": "stream",
     "text": [
      "     rec_loss   reg_loss  count\n",
      "0   49.995539  16.312724   10.0\n",
      "1   49.349002  16.047265   11.0\n",
      "2   55.725054  14.592254    6.0\n",
      "3   68.350387  15.111752    9.0\n",
      "4   81.337620  18.327473    6.0\n",
      "5   98.883318  24.339881   10.0\n",
      "6  110.832792  48.735747    9.0\n",
      "7   93.565452  12.391128   10.0\n"
     ]
    },
    {
     "data": {
      "application/vnd.jupyter.widget-view+json": {
       "model_id": "2707cc890fea46d3adc63f1ecea7a2de",
       "version_major": 2,
       "version_minor": 0
      },
      "text/plain": [
       "Eval of epoch 58/100:   0%|          | 0/8 [00:00<?, ?batch/s]"
      ]
     },
     "metadata": {},
     "output_type": "display_data"
    },
    {
     "name": "stderr",
     "output_type": "stream",
     "text": [
      "--------------------------------------------------------------------------\n",
      "--------------------------------------------------------------------------\n",
      "Train loss: 98.2809\n",
      "Train loss: 98.2809\n",
      "Eval loss: 91.9212\n",
      "Eval loss: 91.9212\n",
      "--------------------------------------------------------------------------\n",
      "--------------------------------------------------------------------------\n"
     ]
    },
    {
     "data": {
      "application/vnd.jupyter.widget-view+json": {
       "model_id": "536a25a5ce1f4356b74ea546fcb9bf51",
       "version_major": 2,
       "version_minor": 0
      },
      "text/plain": [
       "Training of epoch 59/100:   0%|          | 0/63 [00:00<?, ?batch/s]"
      ]
     },
     "metadata": {},
     "output_type": "display_data"
    },
    {
     "name": "stdout",
     "output_type": "stream",
     "text": [
      "     rec_loss   reg_loss  count\n",
      "0   49.536799  16.148782    8.0\n",
      "1   48.023829  16.407969   11.0\n",
      "2   56.101224  14.425223    7.0\n",
      "3   68.144884  15.040768   10.0\n",
      "4   81.812060  18.233471   15.0\n",
      "5   97.465946  25.111273    9.0\n",
      "6  110.355008  49.590489    5.0\n",
      "7   90.159623  13.666727    6.0\n"
     ]
    },
    {
     "data": {
      "application/vnd.jupyter.widget-view+json": {
       "model_id": "27f731a2d0c9443c8f17a7723e7162ec",
       "version_major": 2,
       "version_minor": 0
      },
      "text/plain": [
       "Eval of epoch 59/100:   0%|          | 0/8 [00:00<?, ?batch/s]"
      ]
     },
     "metadata": {},
     "output_type": "display_data"
    },
    {
     "name": "stderr",
     "output_type": "stream",
     "text": [
      "--------------------------------------------------------------------------\n",
      "--------------------------------------------------------------------------\n",
      "Train loss: 92.8725\n",
      "Train loss: 92.8725\n",
      "Eval loss: 111.0035\n",
      "Eval loss: 111.0035\n",
      "--------------------------------------------------------------------------\n",
      "--------------------------------------------------------------------------\n"
     ]
    },
    {
     "data": {
      "application/vnd.jupyter.widget-view+json": {
       "model_id": "65638e36d5cd4344bb500bf3d28fcd54",
       "version_major": 2,
       "version_minor": 0
      },
      "text/plain": [
       "Training of epoch 60/100:   0%|          | 0/63 [00:00<?, ?batch/s]"
      ]
     },
     "metadata": {},
     "output_type": "display_data"
    },
    {
     "ename": "KeyboardInterrupt",
     "evalue": "",
     "output_type": "error",
     "traceback": [
      "\u001b[0;31m---------------------------------------------------------------------------\u001b[0m",
      "\u001b[0;31mKeyboardInterrupt\u001b[0m                         Traceback (most recent call last)",
      "Cell \u001b[0;32mIn[13], line 1\u001b[0m\n\u001b[0;32m----> 1\u001b[0m \u001b[43mtrainer\u001b[49m\u001b[38;5;241;43m.\u001b[39;49m\u001b[43mtrain\u001b[49m\u001b[43m(\u001b[49m\u001b[43m)\u001b[49m\n",
      "File \u001b[0;32m~/variational_inference_for_longitudinal_data/lib/src/pythae/trainers/base_trainer/base_trainer.py:346\u001b[0m, in \u001b[0;36mBaseTrainer.train\u001b[0;34m(self, log_output_dir)\u001b[0m\n\u001b[1;32m    337\u001b[0m \u001b[38;5;28mself\u001b[39m\u001b[38;5;241m.\u001b[39mcallback_handler\u001b[38;5;241m.\u001b[39mon_epoch_begin(\n\u001b[1;32m    338\u001b[0m     training_config\u001b[38;5;241m=\u001b[39m\u001b[38;5;28mself\u001b[39m\u001b[38;5;241m.\u001b[39mtraining_config,\n\u001b[1;32m    339\u001b[0m     epoch\u001b[38;5;241m=\u001b[39mepoch,\n\u001b[1;32m    340\u001b[0m     train_loader\u001b[38;5;241m=\u001b[39m\u001b[38;5;28mself\u001b[39m\u001b[38;5;241m.\u001b[39mtrain_loader,\n\u001b[1;32m    341\u001b[0m     eval_loader\u001b[38;5;241m=\u001b[39m\u001b[38;5;28mself\u001b[39m\u001b[38;5;241m.\u001b[39meval_loader,\n\u001b[1;32m    342\u001b[0m )\n\u001b[1;32m    344\u001b[0m metrics \u001b[38;5;241m=\u001b[39m {}\n\u001b[0;32m--> 346\u001b[0m epoch_train_loss \u001b[38;5;241m=\u001b[39m \u001b[38;5;28;43mself\u001b[39;49m\u001b[38;5;241;43m.\u001b[39;49m\u001b[43mtrain_step\u001b[49m\u001b[43m(\u001b[49m\u001b[43mepoch\u001b[49m\u001b[43m)\u001b[49m\n\u001b[1;32m    347\u001b[0m metrics[\u001b[38;5;124m\"\u001b[39m\u001b[38;5;124mtrain_epoch_loss\u001b[39m\u001b[38;5;124m\"\u001b[39m] \u001b[38;5;241m=\u001b[39m epoch_train_loss\n\u001b[1;32m    349\u001b[0m \u001b[38;5;28;01mif\u001b[39;00m \u001b[38;5;28mhasattr\u001b[39m(\u001b[38;5;28mself\u001b[39m\u001b[38;5;241m.\u001b[39mmodel, \u001b[38;5;124m\"\u001b[39m\u001b[38;5;124mwarmup\u001b[39m\u001b[38;5;124m\"\u001b[39m) \u001b[38;5;129;01mand\u001b[39;00m epoch \u001b[38;5;241m>\u001b[39m \u001b[38;5;28mself\u001b[39m\u001b[38;5;241m.\u001b[39mmodel\u001b[38;5;241m.\u001b[39mwarmup:\n",
      "File \u001b[0;32m~/variational_inference_for_longitudinal_data/lib/src/pythae/trainers/base_trainer/base_trainer.py:518\u001b[0m, in \u001b[0;36mBaseTrainer.train_step\u001b[0;34m(self, epoch)\u001b[0m\n\u001b[1;32m    512\u001b[0m inputs \u001b[38;5;241m=\u001b[39m \u001b[38;5;28mself\u001b[39m\u001b[38;5;241m.\u001b[39m_set_inputs_to_device(inputs)\n\u001b[1;32m    514\u001b[0m model_output \u001b[38;5;241m=\u001b[39m \u001b[38;5;28mself\u001b[39m\u001b[38;5;241m.\u001b[39mmodel(\n\u001b[1;32m    515\u001b[0m     inputs, epoch\u001b[38;5;241m=\u001b[39mepoch, dataset_size\u001b[38;5;241m=\u001b[39m\u001b[38;5;28mlen\u001b[39m(\u001b[38;5;28mself\u001b[39m\u001b[38;5;241m.\u001b[39mtrain_loader\u001b[38;5;241m.\u001b[39mdataset)\n\u001b[1;32m    516\u001b[0m )\n\u001b[0;32m--> 518\u001b[0m \u001b[38;5;28;43mself\u001b[39;49m\u001b[38;5;241;43m.\u001b[39;49m\u001b[43m_optimizers_step\u001b[49m\u001b[43m(\u001b[49m\u001b[43mmodel_output\u001b[49m\u001b[43m)\u001b[49m\n\u001b[1;32m    520\u001b[0m loss \u001b[38;5;241m=\u001b[39m model_output\u001b[38;5;241m.\u001b[39mloss\n\u001b[1;32m    522\u001b[0m epoch_loss \u001b[38;5;241m+\u001b[39m\u001b[38;5;241m=\u001b[39m loss\u001b[38;5;241m.\u001b[39mitem()\n",
      "File \u001b[0;32m~/variational_inference_for_longitudinal_data/lib/src/pythae/trainers/base_trainer/base_trainer.py:237\u001b[0m, in \u001b[0;36mBaseTrainer._optimizers_step\u001b[0;34m(self, model_output)\u001b[0m\n\u001b[1;32m    234\u001b[0m loss \u001b[38;5;241m=\u001b[39m model_output\u001b[38;5;241m.\u001b[39mloss\n\u001b[1;32m    236\u001b[0m \u001b[38;5;28mself\u001b[39m\u001b[38;5;241m.\u001b[39moptimizer\u001b[38;5;241m.\u001b[39mzero_grad()\n\u001b[0;32m--> 237\u001b[0m \u001b[43mloss\u001b[49m\u001b[38;5;241;43m.\u001b[39;49m\u001b[43mbackward\u001b[49m\u001b[43m(\u001b[49m\u001b[43m)\u001b[49m\n\u001b[1;32m    239\u001b[0m \u001b[38;5;66;03m#if self.training_config.gradient_clip is not None:\u001b[39;00m\n\u001b[1;32m    240\u001b[0m \u001b[38;5;66;03m#    torch.nn.utils.clip_grad_norm(self.model.parameters(), self.training_config.gradient_clip)\u001b[39;00m\n\u001b[1;32m    242\u001b[0m \u001b[38;5;28mself\u001b[39m\u001b[38;5;241m.\u001b[39moptimizer\u001b[38;5;241m.\u001b[39mstep()\n",
      "File \u001b[0;32m~/miniconda3/lib/python3.12/site-packages/torch/_tensor.py:525\u001b[0m, in \u001b[0;36mTensor.backward\u001b[0;34m(self, gradient, retain_graph, create_graph, inputs)\u001b[0m\n\u001b[1;32m    515\u001b[0m \u001b[38;5;28;01mif\u001b[39;00m has_torch_function_unary(\u001b[38;5;28mself\u001b[39m):\n\u001b[1;32m    516\u001b[0m     \u001b[38;5;28;01mreturn\u001b[39;00m handle_torch_function(\n\u001b[1;32m    517\u001b[0m         Tensor\u001b[38;5;241m.\u001b[39mbackward,\n\u001b[1;32m    518\u001b[0m         (\u001b[38;5;28mself\u001b[39m,),\n\u001b[0;32m   (...)\u001b[0m\n\u001b[1;32m    523\u001b[0m         inputs\u001b[38;5;241m=\u001b[39minputs,\n\u001b[1;32m    524\u001b[0m     )\n\u001b[0;32m--> 525\u001b[0m \u001b[43mtorch\u001b[49m\u001b[38;5;241;43m.\u001b[39;49m\u001b[43mautograd\u001b[49m\u001b[38;5;241;43m.\u001b[39;49m\u001b[43mbackward\u001b[49m\u001b[43m(\u001b[49m\n\u001b[1;32m    526\u001b[0m \u001b[43m    \u001b[49m\u001b[38;5;28;43mself\u001b[39;49m\u001b[43m,\u001b[49m\u001b[43m \u001b[49m\u001b[43mgradient\u001b[49m\u001b[43m,\u001b[49m\u001b[43m \u001b[49m\u001b[43mretain_graph\u001b[49m\u001b[43m,\u001b[49m\u001b[43m \u001b[49m\u001b[43mcreate_graph\u001b[49m\u001b[43m,\u001b[49m\u001b[43m \u001b[49m\u001b[43minputs\u001b[49m\u001b[38;5;241;43m=\u001b[39;49m\u001b[43minputs\u001b[49m\n\u001b[1;32m    527\u001b[0m \u001b[43m\u001b[49m\u001b[43m)\u001b[49m\n",
      "File \u001b[0;32m~/miniconda3/lib/python3.12/site-packages/torch/autograd/__init__.py:267\u001b[0m, in \u001b[0;36mbackward\u001b[0;34m(tensors, grad_tensors, retain_graph, create_graph, grad_variables, inputs)\u001b[0m\n\u001b[1;32m    262\u001b[0m     retain_graph \u001b[38;5;241m=\u001b[39m create_graph\n\u001b[1;32m    264\u001b[0m \u001b[38;5;66;03m# The reason we repeat the same comment below is that\u001b[39;00m\n\u001b[1;32m    265\u001b[0m \u001b[38;5;66;03m# some Python versions print out the first line of a multi-line function\u001b[39;00m\n\u001b[1;32m    266\u001b[0m \u001b[38;5;66;03m# calls in the traceback and some print out the last line\u001b[39;00m\n\u001b[0;32m--> 267\u001b[0m \u001b[43m_engine_run_backward\u001b[49m\u001b[43m(\u001b[49m\n\u001b[1;32m    268\u001b[0m \u001b[43m    \u001b[49m\u001b[43mtensors\u001b[49m\u001b[43m,\u001b[49m\n\u001b[1;32m    269\u001b[0m \u001b[43m    \u001b[49m\u001b[43mgrad_tensors_\u001b[49m\u001b[43m,\u001b[49m\n\u001b[1;32m    270\u001b[0m \u001b[43m    \u001b[49m\u001b[43mretain_graph\u001b[49m\u001b[43m,\u001b[49m\n\u001b[1;32m    271\u001b[0m \u001b[43m    \u001b[49m\u001b[43mcreate_graph\u001b[49m\u001b[43m,\u001b[49m\n\u001b[1;32m    272\u001b[0m \u001b[43m    \u001b[49m\u001b[43minputs\u001b[49m\u001b[43m,\u001b[49m\n\u001b[1;32m    273\u001b[0m \u001b[43m    \u001b[49m\u001b[43mallow_unreachable\u001b[49m\u001b[38;5;241;43m=\u001b[39;49m\u001b[38;5;28;43;01mTrue\u001b[39;49;00m\u001b[43m,\u001b[49m\n\u001b[1;32m    274\u001b[0m \u001b[43m    \u001b[49m\u001b[43maccumulate_grad\u001b[49m\u001b[38;5;241;43m=\u001b[39;49m\u001b[38;5;28;43;01mTrue\u001b[39;49;00m\u001b[43m,\u001b[49m\n\u001b[1;32m    275\u001b[0m \u001b[43m\u001b[49m\u001b[43m)\u001b[49m\n",
      "File \u001b[0;32m~/miniconda3/lib/python3.12/site-packages/torch/autograd/graph.py:744\u001b[0m, in \u001b[0;36m_engine_run_backward\u001b[0;34m(t_outputs, *args, **kwargs)\u001b[0m\n\u001b[1;32m    742\u001b[0m     unregister_hooks \u001b[38;5;241m=\u001b[39m _register_logging_hooks_on_whole_graph(t_outputs)\n\u001b[1;32m    743\u001b[0m \u001b[38;5;28;01mtry\u001b[39;00m:\n\u001b[0;32m--> 744\u001b[0m     \u001b[38;5;28;01mreturn\u001b[39;00m \u001b[43mVariable\u001b[49m\u001b[38;5;241;43m.\u001b[39;49m\u001b[43m_execution_engine\u001b[49m\u001b[38;5;241;43m.\u001b[39;49m\u001b[43mrun_backward\u001b[49m\u001b[43m(\u001b[49m\u001b[43m  \u001b[49m\u001b[38;5;66;43;03m# Calls into the C++ engine to run the backward pass\u001b[39;49;00m\n\u001b[1;32m    745\u001b[0m \u001b[43m        \u001b[49m\u001b[43mt_outputs\u001b[49m\u001b[43m,\u001b[49m\u001b[43m \u001b[49m\u001b[38;5;241;43m*\u001b[39;49m\u001b[43margs\u001b[49m\u001b[43m,\u001b[49m\u001b[43m \u001b[49m\u001b[38;5;241;43m*\u001b[39;49m\u001b[38;5;241;43m*\u001b[39;49m\u001b[43mkwargs\u001b[49m\n\u001b[1;32m    746\u001b[0m \u001b[43m    \u001b[49m\u001b[43m)\u001b[49m  \u001b[38;5;66;03m# Calls into the C++ engine to run the backward pass\u001b[39;00m\n\u001b[1;32m    747\u001b[0m \u001b[38;5;28;01mfinally\u001b[39;00m:\n\u001b[1;32m    748\u001b[0m     \u001b[38;5;28;01mif\u001b[39;00m attach_logging_hooks:\n",
      "\u001b[0;31mKeyboardInterrupt\u001b[0m: "
     ]
    }
   ],
   "source": [
    "trainer.train()"
   ]
  },
  {
   "cell_type": "code",
   "execution_count": 8,
   "metadata": {},
   "outputs": [
    {
     "data": {
      "text/plain": [
       "LLDM_IAF(\n",
       "  (decoder): Decoder_Chairs(\n",
       "    (fc): Linear(in_features=12, out_features=2048, bias=True)\n",
       "    (layers): Sequential(\n",
       "      (0): ConvTranspose2d(128, 128, kernel_size=(3, 3), stride=(2, 2), padding=(1, 1))\n",
       "      (1): ResBlock(\n",
       "        (conv_block): Sequential(\n",
       "          (0): ReLU()\n",
       "          (1): Conv2d(128, 32, kernel_size=(3, 3), stride=(1, 1), padding=(1, 1))\n",
       "          (2): ReLU()\n",
       "          (3): Conv2d(32, 128, kernel_size=(1, 1), stride=(1, 1))\n",
       "        )\n",
       "      )\n",
       "      (2): ResBlock(\n",
       "        (conv_block): Sequential(\n",
       "          (0): ReLU()\n",
       "          (1): Conv2d(128, 32, kernel_size=(3, 3), stride=(1, 1), padding=(1, 1))\n",
       "          (2): ReLU()\n",
       "          (3): Conv2d(32, 128, kernel_size=(1, 1), stride=(1, 1))\n",
       "        )\n",
       "      )\n",
       "      (3): ResBlock(\n",
       "        (conv_block): Sequential(\n",
       "          (0): ReLU()\n",
       "          (1): Conv2d(128, 32, kernel_size=(3, 3), stride=(1, 1), padding=(1, 1))\n",
       "          (2): ReLU()\n",
       "          (3): Conv2d(32, 128, kernel_size=(1, 1), stride=(1, 1))\n",
       "        )\n",
       "      )\n",
       "      (4): ResBlock(\n",
       "        (conv_block): Sequential(\n",
       "          (0): ReLU()\n",
       "          (1): Conv2d(128, 32, kernel_size=(3, 3), stride=(1, 1), padding=(1, 1))\n",
       "          (2): ReLU()\n",
       "          (3): Conv2d(32, 128, kernel_size=(1, 1), stride=(1, 1))\n",
       "        )\n",
       "      )\n",
       "      (5): ResBlock(\n",
       "        (conv_block): Sequential(\n",
       "          (0): ReLU()\n",
       "          (1): Conv2d(128, 32, kernel_size=(3, 3), stride=(1, 1), padding=(1, 1))\n",
       "          (2): ReLU()\n",
       "          (3): Conv2d(32, 128, kernel_size=(1, 1), stride=(1, 1))\n",
       "        )\n",
       "      )\n",
       "      (6): ResBlock(\n",
       "        (conv_block): Sequential(\n",
       "          (0): ReLU()\n",
       "          (1): Conv2d(128, 32, kernel_size=(3, 3), stride=(1, 1), padding=(1, 1))\n",
       "          (2): ReLU()\n",
       "          (3): Conv2d(32, 128, kernel_size=(1, 1), stride=(1, 1))\n",
       "        )\n",
       "      )\n",
       "      (7): ConvTranspose2d(128, 64, kernel_size=(5, 5), stride=(2, 2), padding=(1, 1))\n",
       "      (8): LeakyReLU(negative_slope=0.01)\n",
       "      (9): ConvTranspose2d(64, 32, kernel_size=(5, 5), stride=(2, 2), padding=(1, 1), output_padding=(1, 1))\n",
       "      (10): LeakyReLU(negative_slope=0.01)\n",
       "      (11): ConvTranspose2d(32, 3, kernel_size=(4, 4), stride=(2, 2), padding=(1, 1))\n",
       "    )\n",
       "  )\n",
       "  (encoder): Encoder_Chairs(\n",
       "    (layers): Sequential(\n",
       "      (0): Conv2d(3, 16, kernel_size=(4, 4), stride=(2, 2), padding=(1, 1))\n",
       "      (1): Conv2d(16, 32, kernel_size=(4, 4), stride=(2, 2), padding=(1, 1))\n",
       "      (2): LeakyReLU(negative_slope=0.01)\n",
       "      (3): Conv2d(32, 64, kernel_size=(3, 3), stride=(2, 2), padding=(1, 1))\n",
       "      (4): LeakyReLU(negative_slope=0.01)\n",
       "      (5): Conv2d(64, 128, kernel_size=(3, 3), stride=(2, 2), padding=(1, 1))\n",
       "      (6): LeakyReLU(negative_slope=0.01)\n",
       "      (7): ResBlock(\n",
       "        (conv_block): Sequential(\n",
       "          (0): ReLU()\n",
       "          (1): Conv2d(128, 32, kernel_size=(3, 3), stride=(1, 1), padding=(1, 1))\n",
       "          (2): ReLU()\n",
       "          (3): Conv2d(32, 128, kernel_size=(1, 1), stride=(1, 1))\n",
       "        )\n",
       "      )\n",
       "      (8): ResBlock(\n",
       "        (conv_block): Sequential(\n",
       "          (0): ReLU()\n",
       "          (1): Conv2d(128, 32, kernel_size=(3, 3), stride=(1, 1), padding=(1, 1))\n",
       "          (2): ReLU()\n",
       "          (3): Conv2d(32, 128, kernel_size=(1, 1), stride=(1, 1))\n",
       "        )\n",
       "      )\n",
       "      (9): ResBlock(\n",
       "        (conv_block): Sequential(\n",
       "          (0): ReLU()\n",
       "          (1): Conv2d(128, 32, kernel_size=(3, 3), stride=(1, 1), padding=(1, 1))\n",
       "          (2): ReLU()\n",
       "          (3): Conv2d(32, 128, kernel_size=(1, 1), stride=(1, 1))\n",
       "        )\n",
       "      )\n",
       "      (10): ResBlock(\n",
       "        (conv_block): Sequential(\n",
       "          (0): ReLU()\n",
       "          (1): Conv2d(128, 32, kernel_size=(3, 3), stride=(1, 1), padding=(1, 1))\n",
       "          (2): ReLU()\n",
       "          (3): Conv2d(32, 128, kernel_size=(1, 1), stride=(1, 1))\n",
       "        )\n",
       "      )\n",
       "      (11): ResBlock(\n",
       "        (conv_block): Sequential(\n",
       "          (0): ReLU()\n",
       "          (1): Conv2d(128, 32, kernel_size=(3, 3), stride=(1, 1), padding=(1, 1))\n",
       "          (2): ReLU()\n",
       "          (3): Conv2d(32, 128, kernel_size=(1, 1), stride=(1, 1))\n",
       "        )\n",
       "      )\n",
       "      (12): ResBlock(\n",
       "        (conv_block): Sequential(\n",
       "          (0): ReLU()\n",
       "          (1): Conv2d(128, 32, kernel_size=(3, 3), stride=(1, 1), padding=(1, 1))\n",
       "          (2): ReLU()\n",
       "          (3): Conv2d(32, 128, kernel_size=(1, 1), stride=(1, 1))\n",
       "        )\n",
       "      )\n",
       "    )\n",
       "    (embedding): Linear(in_features=2048, out_features=12, bias=True)\n",
       "    (log_var): Linear(in_features=2048, out_features=12, bias=True)\n",
       "  )\n",
       "  (flows): ModuleList(\n",
       "    (0-6): 7 x IAF(\n",
       "      (net): ModuleList(\n",
       "        (0-1): 2 x MADE(\n",
       "          (context_input_layer): MaskedLinear(in_features=12, out_features=128, bias=True)\n",
       "          (net): Sequential(\n",
       "            (0): MaskedLinear(in_features=128, out_features=128, bias=True)\n",
       "            (1): ReLU()\n",
       "            (2): MaskedLinear(in_features=128, out_features=128, bias=True)\n",
       "            (3): ReLU()\n",
       "            (4): MaskedLinear(in_features=128, out_features=128, bias=True)\n",
       "            (5): ReLU()\n",
       "            (6): MaskedLinear(in_features=128, out_features=24, bias=True)\n",
       "          )\n",
       "        )\n",
       "      )\n",
       "    )\n",
       "  )\n",
       "  (pretrained_vae): VAE(\n",
       "    (decoder): Decoder_Chairs(\n",
       "      (fc): Linear(in_features=12, out_features=2048, bias=True)\n",
       "      (layers): Sequential(\n",
       "        (0): ConvTranspose2d(128, 128, kernel_size=(3, 3), stride=(2, 2), padding=(1, 1))\n",
       "        (1): ResBlock(\n",
       "          (conv_block): Sequential(\n",
       "            (0): ReLU()\n",
       "            (1): Conv2d(128, 32, kernel_size=(3, 3), stride=(1, 1), padding=(1, 1))\n",
       "            (2): ReLU()\n",
       "            (3): Conv2d(32, 128, kernel_size=(1, 1), stride=(1, 1))\n",
       "          )\n",
       "        )\n",
       "        (2): ResBlock(\n",
       "          (conv_block): Sequential(\n",
       "            (0): ReLU()\n",
       "            (1): Conv2d(128, 32, kernel_size=(3, 3), stride=(1, 1), padding=(1, 1))\n",
       "            (2): ReLU()\n",
       "            (3): Conv2d(32, 128, kernel_size=(1, 1), stride=(1, 1))\n",
       "          )\n",
       "        )\n",
       "        (3): ResBlock(\n",
       "          (conv_block): Sequential(\n",
       "            (0): ReLU()\n",
       "            (1): Conv2d(128, 32, kernel_size=(3, 3), stride=(1, 1), padding=(1, 1))\n",
       "            (2): ReLU()\n",
       "            (3): Conv2d(32, 128, kernel_size=(1, 1), stride=(1, 1))\n",
       "          )\n",
       "        )\n",
       "        (4): ResBlock(\n",
       "          (conv_block): Sequential(\n",
       "            (0): ReLU()\n",
       "            (1): Conv2d(128, 32, kernel_size=(3, 3), stride=(1, 1), padding=(1, 1))\n",
       "            (2): ReLU()\n",
       "            (3): Conv2d(32, 128, kernel_size=(1, 1), stride=(1, 1))\n",
       "          )\n",
       "        )\n",
       "        (5): ResBlock(\n",
       "          (conv_block): Sequential(\n",
       "            (0): ReLU()\n",
       "            (1): Conv2d(128, 32, kernel_size=(3, 3), stride=(1, 1), padding=(1, 1))\n",
       "            (2): ReLU()\n",
       "            (3): Conv2d(32, 128, kernel_size=(1, 1), stride=(1, 1))\n",
       "          )\n",
       "        )\n",
       "        (6): ResBlock(\n",
       "          (conv_block): Sequential(\n",
       "            (0): ReLU()\n",
       "            (1): Conv2d(128, 32, kernel_size=(3, 3), stride=(1, 1), padding=(1, 1))\n",
       "            (2): ReLU()\n",
       "            (3): Conv2d(32, 128, kernel_size=(1, 1), stride=(1, 1))\n",
       "          )\n",
       "        )\n",
       "        (7): ConvTranspose2d(128, 64, kernel_size=(5, 5), stride=(2, 2), padding=(1, 1))\n",
       "        (8): LeakyReLU(negative_slope=0.01)\n",
       "        (9): ConvTranspose2d(64, 32, kernel_size=(5, 5), stride=(2, 2), padding=(1, 1), output_padding=(1, 1))\n",
       "        (10): LeakyReLU(negative_slope=0.01)\n",
       "        (11): ConvTranspose2d(32, 3, kernel_size=(4, 4), stride=(2, 2), padding=(1, 1))\n",
       "      )\n",
       "    )\n",
       "    (encoder): Encoder_Chairs(\n",
       "      (layers): Sequential(\n",
       "        (0): Conv2d(3, 16, kernel_size=(4, 4), stride=(2, 2), padding=(1, 1))\n",
       "        (1): Conv2d(16, 32, kernel_size=(4, 4), stride=(2, 2), padding=(1, 1))\n",
       "        (2): LeakyReLU(negative_slope=0.01)\n",
       "        (3): Conv2d(32, 64, kernel_size=(3, 3), stride=(2, 2), padding=(1, 1))\n",
       "        (4): LeakyReLU(negative_slope=0.01)\n",
       "        (5): Conv2d(64, 128, kernel_size=(3, 3), stride=(2, 2), padding=(1, 1))\n",
       "        (6): LeakyReLU(negative_slope=0.01)\n",
       "        (7): ResBlock(\n",
       "          (conv_block): Sequential(\n",
       "            (0): ReLU()\n",
       "            (1): Conv2d(128, 32, kernel_size=(3, 3), stride=(1, 1), padding=(1, 1))\n",
       "            (2): ReLU()\n",
       "            (3): Conv2d(32, 128, kernel_size=(1, 1), stride=(1, 1))\n",
       "          )\n",
       "        )\n",
       "        (8): ResBlock(\n",
       "          (conv_block): Sequential(\n",
       "            (0): ReLU()\n",
       "            (1): Conv2d(128, 32, kernel_size=(3, 3), stride=(1, 1), padding=(1, 1))\n",
       "            (2): ReLU()\n",
       "            (3): Conv2d(32, 128, kernel_size=(1, 1), stride=(1, 1))\n",
       "          )\n",
       "        )\n",
       "        (9): ResBlock(\n",
       "          (conv_block): Sequential(\n",
       "            (0): ReLU()\n",
       "            (1): Conv2d(128, 32, kernel_size=(3, 3), stride=(1, 1), padding=(1, 1))\n",
       "            (2): ReLU()\n",
       "            (3): Conv2d(32, 128, kernel_size=(1, 1), stride=(1, 1))\n",
       "          )\n",
       "        )\n",
       "        (10): ResBlock(\n",
       "          (conv_block): Sequential(\n",
       "            (0): ReLU()\n",
       "            (1): Conv2d(128, 32, kernel_size=(3, 3), stride=(1, 1), padding=(1, 1))\n",
       "            (2): ReLU()\n",
       "            (3): Conv2d(32, 128, kernel_size=(1, 1), stride=(1, 1))\n",
       "          )\n",
       "        )\n",
       "        (11): ResBlock(\n",
       "          (conv_block): Sequential(\n",
       "            (0): ReLU()\n",
       "            (1): Conv2d(128, 32, kernel_size=(3, 3), stride=(1, 1), padding=(1, 1))\n",
       "            (2): ReLU()\n",
       "            (3): Conv2d(32, 128, kernel_size=(1, 1), stride=(1, 1))\n",
       "          )\n",
       "        )\n",
       "        (12): ResBlock(\n",
       "          (conv_block): Sequential(\n",
       "            (0): ReLU()\n",
       "            (1): Conv2d(128, 32, kernel_size=(3, 3), stride=(1, 1), padding=(1, 1))\n",
       "            (2): ReLU()\n",
       "            (3): Conv2d(32, 128, kernel_size=(1, 1), stride=(1, 1))\n",
       "          )\n",
       "        )\n",
       "      )\n",
       "      (embedding): Linear(in_features=2048, out_features=12, bias=True)\n",
       "      (log_var): Linear(in_features=2048, out_features=12, bias=True)\n",
       "    )\n",
       "  )\n",
       "  (pretrained_ldm): MyLatentDiffusion(\n",
       "    (model): DiffusionWrapper(\n",
       "      (diffusion_model): UNetModel(\n",
       "        (time_embed): Sequential(\n",
       "          (0): Linear(in_features=64, out_features=256, bias=True)\n",
       "          (1): SiLU()\n",
       "          (2): Linear(in_features=256, out_features=256, bias=True)\n",
       "        )\n",
       "        (input_blocks): ModuleList(\n",
       "          (0): TimestepEmbedSequential(\n",
       "            (0): Conv2d(3, 64, kernel_size=(3, 3), stride=(1, 1), padding=(1, 1))\n",
       "          )\n",
       "          (1-4): 4 x TimestepEmbedSequential(\n",
       "            (0): ResBlock(\n",
       "              (in_layers): Sequential(\n",
       "                (0): GroupNorm32(32, 64, eps=1e-05, affine=True)\n",
       "                (1): SiLU()\n",
       "                (2): Conv2d(64, 64, kernel_size=(3, 3), stride=(1, 1), padding=(1, 1))\n",
       "              )\n",
       "              (emb_layers): Sequential(\n",
       "                (0): SiLU()\n",
       "                (1): Linear(in_features=256, out_features=64, bias=True)\n",
       "              )\n",
       "              (out_layers): Sequential(\n",
       "                (0): GroupNorm32(32, 64, eps=1e-05, affine=True)\n",
       "                (1): SiLU()\n",
       "                (2): Dropout(p=0.0, inplace=False)\n",
       "                (3): Conv2d(64, 64, kernel_size=(3, 3), stride=(1, 1), padding=(1, 1))\n",
       "              )\n",
       "              (skip_connection): Identity()\n",
       "            )\n",
       "            (1): SpatialTransformer(\n",
       "              (norm): GroupNorm(32, 64, eps=1e-06, affine=True)\n",
       "              (proj_in): Conv2d(64, 64, kernel_size=(1, 1), stride=(1, 1))\n",
       "              (transformer_blocks): ModuleList(\n",
       "                (0): BasicTransformerBlock(\n",
       "                  (attn1): CrossAttention(\n",
       "                    (to_q): Linear(in_features=64, out_features=64, bias=False)\n",
       "                    (to_k): Linear(in_features=64, out_features=64, bias=False)\n",
       "                    (to_v): Linear(in_features=64, out_features=64, bias=False)\n",
       "                    (to_out): Sequential(\n",
       "                      (0): Linear(in_features=64, out_features=64, bias=True)\n",
       "                    )\n",
       "                  )\n",
       "                  (norm1): LayerNorm((64,), eps=1e-05, elementwise_affine=True)\n",
       "                  (attn2): CrossAttention(\n",
       "                    (to_q): Linear(in_features=64, out_features=64, bias=False)\n",
       "                    (to_k): Linear(in_features=64, out_features=64, bias=False)\n",
       "                    (to_v): Linear(in_features=64, out_features=64, bias=False)\n",
       "                    (to_out): Sequential(\n",
       "                      (0): Linear(in_features=64, out_features=64, bias=True)\n",
       "                    )\n",
       "                  )\n",
       "                  (norm2): LayerNorm((64,), eps=1e-05, elementwise_affine=True)\n",
       "                  (ff): FeedForward(\n",
       "                    (net): Sequential(\n",
       "                      (0): GeGLU(\n",
       "                        (proj): Linear(in_features=64, out_features=512, bias=True)\n",
       "                      )\n",
       "                      (1): Dropout(p=0.0, inplace=False)\n",
       "                      (2): Linear(in_features=256, out_features=64, bias=True)\n",
       "                    )\n",
       "                  )\n",
       "                  (norm3): LayerNorm((64,), eps=1e-05, elementwise_affine=True)\n",
       "                )\n",
       "              )\n",
       "              (proj_out): Conv2d(64, 64, kernel_size=(1, 1), stride=(1, 1))\n",
       "            )\n",
       "          )\n",
       "        )\n",
       "        (middle_block): TimestepEmbedSequential(\n",
       "          (0): ResBlock(\n",
       "            (in_layers): Sequential(\n",
       "              (0): GroupNorm32(32, 64, eps=1e-05, affine=True)\n",
       "              (1): SiLU()\n",
       "              (2): Conv2d(64, 64, kernel_size=(3, 3), stride=(1, 1), padding=(1, 1))\n",
       "            )\n",
       "            (emb_layers): Sequential(\n",
       "              (0): SiLU()\n",
       "              (1): Linear(in_features=256, out_features=64, bias=True)\n",
       "            )\n",
       "            (out_layers): Sequential(\n",
       "              (0): GroupNorm32(32, 64, eps=1e-05, affine=True)\n",
       "              (1): SiLU()\n",
       "              (2): Dropout(p=0.0, inplace=False)\n",
       "              (3): Conv2d(64, 64, kernel_size=(3, 3), stride=(1, 1), padding=(1, 1))\n",
       "            )\n",
       "            (skip_connection): Identity()\n",
       "          )\n",
       "          (1): SpatialTransformer(\n",
       "            (norm): GroupNorm(32, 64, eps=1e-06, affine=True)\n",
       "            (proj_in): Conv2d(64, 64, kernel_size=(1, 1), stride=(1, 1))\n",
       "            (transformer_blocks): ModuleList(\n",
       "              (0): BasicTransformerBlock(\n",
       "                (attn1): CrossAttention(\n",
       "                  (to_q): Linear(in_features=64, out_features=64, bias=False)\n",
       "                  (to_k): Linear(in_features=64, out_features=64, bias=False)\n",
       "                  (to_v): Linear(in_features=64, out_features=64, bias=False)\n",
       "                  (to_out): Sequential(\n",
       "                    (0): Linear(in_features=64, out_features=64, bias=True)\n",
       "                  )\n",
       "                )\n",
       "                (norm1): LayerNorm((64,), eps=1e-05, elementwise_affine=True)\n",
       "                (attn2): CrossAttention(\n",
       "                  (to_q): Linear(in_features=64, out_features=64, bias=False)\n",
       "                  (to_k): Linear(in_features=64, out_features=64, bias=False)\n",
       "                  (to_v): Linear(in_features=64, out_features=64, bias=False)\n",
       "                  (to_out): Sequential(\n",
       "                    (0): Linear(in_features=64, out_features=64, bias=True)\n",
       "                  )\n",
       "                )\n",
       "                (norm2): LayerNorm((64,), eps=1e-05, elementwise_affine=True)\n",
       "                (ff): FeedForward(\n",
       "                  (net): Sequential(\n",
       "                    (0): GeGLU(\n",
       "                      (proj): Linear(in_features=64, out_features=512, bias=True)\n",
       "                    )\n",
       "                    (1): Dropout(p=0.0, inplace=False)\n",
       "                    (2): Linear(in_features=256, out_features=64, bias=True)\n",
       "                  )\n",
       "                )\n",
       "                (norm3): LayerNorm((64,), eps=1e-05, elementwise_affine=True)\n",
       "              )\n",
       "            )\n",
       "            (proj_out): Conv2d(64, 64, kernel_size=(1, 1), stride=(1, 1))\n",
       "          )\n",
       "          (2): ResBlock(\n",
       "            (in_layers): Sequential(\n",
       "              (0): GroupNorm32(32, 64, eps=1e-05, affine=True)\n",
       "              (1): SiLU()\n",
       "              (2): Conv2d(64, 64, kernel_size=(3, 3), stride=(1, 1), padding=(1, 1))\n",
       "            )\n",
       "            (emb_layers): Sequential(\n",
       "              (0): SiLU()\n",
       "              (1): Linear(in_features=256, out_features=64, bias=True)\n",
       "            )\n",
       "            (out_layers): Sequential(\n",
       "              (0): GroupNorm32(32, 64, eps=1e-05, affine=True)\n",
       "              (1): SiLU()\n",
       "              (2): Dropout(p=0.0, inplace=False)\n",
       "              (3): Conv2d(64, 64, kernel_size=(3, 3), stride=(1, 1), padding=(1, 1))\n",
       "            )\n",
       "            (skip_connection): Identity()\n",
       "          )\n",
       "        )\n",
       "        (output_blocks): ModuleList(\n",
       "          (0-4): 5 x TimestepEmbedSequential(\n",
       "            (0): ResBlock(\n",
       "              (in_layers): Sequential(\n",
       "                (0): GroupNorm32(32, 128, eps=1e-05, affine=True)\n",
       "                (1): SiLU()\n",
       "                (2): Conv2d(128, 64, kernel_size=(3, 3), stride=(1, 1), padding=(1, 1))\n",
       "              )\n",
       "              (emb_layers): Sequential(\n",
       "                (0): SiLU()\n",
       "                (1): Linear(in_features=256, out_features=64, bias=True)\n",
       "              )\n",
       "              (out_layers): Sequential(\n",
       "                (0): GroupNorm32(32, 64, eps=1e-05, affine=True)\n",
       "                (1): SiLU()\n",
       "                (2): Dropout(p=0.0, inplace=False)\n",
       "                (3): Conv2d(64, 64, kernel_size=(3, 3), stride=(1, 1), padding=(1, 1))\n",
       "              )\n",
       "              (skip_connection): Conv2d(128, 64, kernel_size=(1, 1), stride=(1, 1))\n",
       "            )\n",
       "            (1): SpatialTransformer(\n",
       "              (norm): GroupNorm(32, 64, eps=1e-06, affine=True)\n",
       "              (proj_in): Conv2d(64, 64, kernel_size=(1, 1), stride=(1, 1))\n",
       "              (transformer_blocks): ModuleList(\n",
       "                (0): BasicTransformerBlock(\n",
       "                  (attn1): CrossAttention(\n",
       "                    (to_q): Linear(in_features=64, out_features=64, bias=False)\n",
       "                    (to_k): Linear(in_features=64, out_features=64, bias=False)\n",
       "                    (to_v): Linear(in_features=64, out_features=64, bias=False)\n",
       "                    (to_out): Sequential(\n",
       "                      (0): Linear(in_features=64, out_features=64, bias=True)\n",
       "                    )\n",
       "                  )\n",
       "                  (norm1): LayerNorm((64,), eps=1e-05, elementwise_affine=True)\n",
       "                  (attn2): CrossAttention(\n",
       "                    (to_q): Linear(in_features=64, out_features=64, bias=False)\n",
       "                    (to_k): Linear(in_features=64, out_features=64, bias=False)\n",
       "                    (to_v): Linear(in_features=64, out_features=64, bias=False)\n",
       "                    (to_out): Sequential(\n",
       "                      (0): Linear(in_features=64, out_features=64, bias=True)\n",
       "                    )\n",
       "                  )\n",
       "                  (norm2): LayerNorm((64,), eps=1e-05, elementwise_affine=True)\n",
       "                  (ff): FeedForward(\n",
       "                    (net): Sequential(\n",
       "                      (0): GeGLU(\n",
       "                        (proj): Linear(in_features=64, out_features=512, bias=True)\n",
       "                      )\n",
       "                      (1): Dropout(p=0.0, inplace=False)\n",
       "                      (2): Linear(in_features=256, out_features=64, bias=True)\n",
       "                    )\n",
       "                  )\n",
       "                  (norm3): LayerNorm((64,), eps=1e-05, elementwise_affine=True)\n",
       "                )\n",
       "              )\n",
       "              (proj_out): Conv2d(64, 64, kernel_size=(1, 1), stride=(1, 1))\n",
       "            )\n",
       "          )\n",
       "        )\n",
       "        (out): Sequential(\n",
       "          (0): GroupNorm32(32, 64, eps=1e-05, affine=True)\n",
       "          (1): SiLU()\n",
       "          (2): Conv2d(64, 3, kernel_size=(3, 3), stride=(1, 1), padding=(1, 1))\n",
       "        )\n",
       "      )\n",
       "    )\n",
       "  )\n",
       "  (posterior_iaf_flow): IAF(\n",
       "    (net): ModuleList(\n",
       "      (0-2): 3 x MADE(\n",
       "        (context_input_layer): MaskedLinear(in_features=12, out_features=128, bias=True)\n",
       "        (net): Sequential(\n",
       "          (0): MaskedLinear(in_features=128, out_features=128, bias=True)\n",
       "          (1): ReLU()\n",
       "          (2): MaskedLinear(in_features=128, out_features=24, bias=True)\n",
       "        )\n",
       "      )\n",
       "    )\n",
       "  )\n",
       ")"
      ]
     },
     "execution_count": 8,
     "metadata": {},
     "output_type": "execute_result"
    }
   ],
   "source": [
    "lldm.load_state_dict(torch.load('lldm.pt'))\n",
    "lldm.eval()"
   ]
  },
  {
   "cell_type": "code",
   "execution_count": 17,
   "metadata": {},
   "outputs": [
    {
     "data": {
      "image/png": "[encoded data removed]",
      "text/plain": [
       "<Figure size 1000x1000 with 8 Axes>"
      ]
     },
     "metadata": {},
     "output_type": "display_data"
    },
    {
     "data": {
      "image/png": "[encoded data removed]",
      "text/plain": [
       "<Figure size 1000x1000 with 8 Axes>"
      ]
     },
     "metadata": {},
     "output_type": "display_data"
    },
    {
     "name": "stdout",
     "output_type": "stream",
     "text": [
      "Reconstruction loss: 58.197078704833984\n"
     ]
    }
   ],
   "source": [
    "### TESTING RECONSTRUCTION ###\n",
    "lldm = lldm.to('cpu')\n",
    "lldm.eval()\n",
    "#x = train_data[0].to('cuda').unsqueeze(0)\n",
    "\n",
    "\n",
    "# z = lldm.encoder(x).embedding[0]\n",
    "# _, z, _ = lldm.ddim_sampler.sample(shape = (1 , 3, 2, 2), x_last = z.reshape(1,3,2,2), cond = None)\n",
    "\n",
    "\n",
    "# z = z.reshape(8,  12)\n",
    "# x_rec = lldm.decoder(z).reconstruction\n",
    "\n",
    "x = train_dataset[67]\n",
    "x_rec = lldm(x, vi_index = 4).recon_x\n",
    "\n",
    "x = x.data.unsqueeze(0)\n",
    "x = x.to(x_rec.device)\n",
    "plot_sequence(x.data)\n",
    "plot_sequence(x_rec)\n",
    "\n",
    "recon_loss = (\n",
    "                0.5 * (\n",
    "                    F.mse_loss(\n",
    "                        x_rec.reshape(x.shape[0]*lldm.n_obs, -1),\n",
    "                        x.reshape(x.shape[0]*lldm.n_obs, -1),\n",
    "                        reduction=\"none\"\n",
    "                    )).sum(dim=-1).reshape(x.shape[0], -1)\n",
    "            ).mean(dim=-1).item()\n",
    "\n",
    "print('Reconstruction loss:', recon_loss)\n"
   ]
  },
  {
   "cell_type": "code",
   "execution_count": 56,
   "metadata": {},
   "outputs": [
    {
     "data": {
      "image/png": "[encoded data removed]",
      "text/plain": [
       "<Figure size 1000x1000 with 80 Axes>"
      ]
     },
     "metadata": {},
     "output_type": "display_data"
    }
   ],
   "source": [
    "### TESTING GENERATION ###\n",
    "\n",
    "lldm = lldm.to('cuda')\n",
    "lldm.device = 'cuda'\n",
    "\n",
    "lldm = lldm.eval()\n",
    "recon_x = lldm.generate(10, temperature = 0.01)\n",
    "\n",
    "plot_sequence(recon_x)\n",
    "\n"
   ]
  },
  {
   "cell_type": "code",
   "execution_count": 36,
   "metadata": {},
   "outputs": [
    {
     "name": "stdout",
     "output_type": "stream",
     "text": [
      "encoding done\n",
      "tsne/pca done\n"
     ]
    },
    {
     "data": {
      "image/png": "[encoded data removed]",
      "text/plain": [
       "<Figure size 640x480 with 1 Axes>"
      ]
     },
     "metadata": {},
     "output_type": "display_data"
    }
   ],
   "source": [
    "from sklearn.manifold import TSNE\n",
    "from sklearn.decomposition import PCA\n",
    "\n",
    "lldm = lldm.to('cpu')\n",
    "#tsne = TSNE(n_components=2, random_state=0)\n",
    "tsne = PCA(n_components=2)\n",
    "z = lldm.encoder(train_data).embedding[:1000, :]\n",
    "print('encoding done')\n",
    "z = z.detach().cpu().numpy()\n",
    "z = tsne.fit_transform(z)\n",
    "print('tsne/pca done')\n",
    "\n",
    "\n",
    "for i in range(1000):\n",
    "    if i % 8 == 0:\n",
    "        plt.scatter(z[i, 0], z[i, 1], c='r')\n",
    "    elif i % 8 == 1:\n",
    "        plt.scatter(z[i, 0], z[i, 1], c='b')\n",
    "    elif i % 8 == 2:\n",
    "        plt.scatter(z[i, 0], z[i, 1], c='g')\n",
    "    elif i % 8 == 3:\n",
    "        plt.scatter(z[i, 0], z[i, 1], c='y')\n",
    "    elif i % 8 == 4:\n",
    "        plt.scatter(z[i, 0], z[i, 1], c='m')\n",
    "    elif i % 8 == 5:\n",
    "        plt.scatter(z[i, 0], z[i, 1], c='c')\n",
    "    elif i % 8 == 6:\n",
    "        plt.scatter(z[i, 0], z[i, 1], c='k')\n",
    "    else:\n",
    "        plt.scatter(z[i, 0], z[i, 1], c='orange')\n",
    "\n",
    "plt.legend(['0', '1', '2', '3', '4', '5', '6', '7'])  \n",
    "plt.show()"
   ]
  },
  {
   "cell_type": "markdown",
   "metadata": {},
   "source": [
    "## TO DO\n",
    "\n",
    "#ergonomiser le Riemaniann sampling\n",
    "- inspecter LVIAF\n",
    "- train !\n",
    "\n",
    "Possible pain points : le diffusion backward très bof (at least dans les intemédiaires). Après c'est du sampling... wait and see\n",
    "\n",
    "30/05\n",
    "Le problème du vanishing G a été résolu en passant à une dim latente de 12.\n",
    "Il faut améliorer le diffusion model !\n",
    "Eventuellemnt passer à du 16, puis 1, 4, 4 pour avoir des étages ce qui  n'est pas le cas now. Checker si on a pas de vansihing G.\n",
    "\n",
    "\n",
    "04/06 Prêt à train (je crois ?) Il faudrait probablement tester les priors (à voir cmt)"
   ]
  }
 ],
 "metadata": {
  "kernelspec": {
   "display_name": "Python 3 (ipykernel)",
   "language": "python",
   "name": "python3"
  },
  "language_info": {
   "codemirror_mode": {
    "name": "ipython",
    "version": 3
   },
   "file_extension": ".py",
   "mimetype": "text/x-python",
   "name": "python",
   "nbconvert_exporter": "python",
   "pygments_lexer": "ipython3",
   "version": "3.12.2"
  }
 },
 "nbformat": 4,
 "nbformat_minor": 2
}
